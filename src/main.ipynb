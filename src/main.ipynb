{
 "cells": [
  {
   "cell_type": "markdown",
   "metadata": {},
   "source": [
    "# Universidad del Valle de Guatemala\n",
    "# (CC3092) Security Data Science\n",
    "# Laboratorio 4 - Análisis de Malware\n",
    "\n",
    "Miembros del equipo de trabajo:\n",
    "- Yongbum Park (20117)\n",
    "- Santiago Taracena Puga (20017)"
   ]
  },
  {
   "cell_type": "markdown",
   "metadata": {},
   "source": [
    "## Introducción\n",
    "\n",
    "El presente laboratorio de Security Data Science se centra en la aplicación de técnicas de análisis estático de malware y la implementación del algoritmo K-means para la clasificación de familias de malware. Con el aumento constante de amenazas cibernéticas, la identificación y clasificación efectiva de familias de malware son fundamentales para desarrollar respuestas y controles adecuados. En este contexto, se aborda la creación de un dataset a partir de ejemplos de malware proporcionados, donde se utilizará la herramienta pefile para realizar un análisis estático y extraer características relevantes.\n",
    "\n",
    "La diversidad y complejidad del malware hacen necesario el empleo de técnicas de preprocesamiento de datos para garantizar la eficacia de los algoritmos de aprendizaje no supervisado. Por tanto, se explorarán y aplicarán diversas técnicas de preprocesamiento para asegurar la calidad y la manipulación adecuada de la información.\n",
    "\n",
    "La implementación de dos algoritmos de partición para la creación de clústeres a partir del dataset permitirá determinar el número óptimo de clústeres mediante el método del codo y el coeficiente de Silhouette. Estos análisis empíricos se complementarán con la evaluación del índice de Jaccard para calcular la similitud entre las familias de malware, utilizando diferentes umbrales de similitud y características como strings y llamadas a funciones."
   ]
  },
  {
   "cell_type": "markdown",
   "metadata": {},
   "source": [
    "## Parte 1"
   ]
  },
  {
   "cell_type": "markdown",
   "metadata": {},
   "source": [
    "### Creación del dataset"
   ]
  },
  {
   "cell_type": "markdown",
   "metadata": {},
   "source": [
    "Para llevar a cabo la creación del dataset, se procedió con un análisis estático de los archivos de malware proporcionados utilizando la herramienta pefile. Esta herramienta permitió examinar en profundidad los archivos ejecutables y extraer información relevante, como el PE header, el nombre de las secciones y las llamadas a funciones realizadas.\n",
    "\n",
    "Durante el análisis, se observó que los archivos de malware presentaban una variedad de características y comportamientos, lo que subraya la importancia de un enfoque detallado y exhaustivo en la extracción de características. Se identificaron diferentes familias de malware entre los ejemplos proporcionados, lo que respalda la necesidad de una clasificación precisa para desarrollar respuestas y controles adecuados.\n",
    "\n",
    "Posteriormente, se procedió con la exploración y el preprocesamiento de los datos obtenidos del análisis estático. Se identificaron columnas que requerían técnicas de preprocesamiento para garantizar la calidad y la manipulación adecuada de la información. Entre las técnicas de preprocesamiento aplicadas se incluyeron la normalización de datos, el manejo de valores faltantes y la codificación de variables categóricas, con el fin de optimizar la preparación de los datos para su posterior análisis mediante algoritmos de aprendizaje no supervisado.\n",
    "\n",
    "En conclusión, la etapa de creación del dataset proporcionó una base sólida para el análisis y la clasificación de familias de malware. El análisis estático de los archivos de malware, junto con el preprocesamiento adecuado de los datos, constituyen pasos fundamentales para avanzar hacia la implementación de algoritmos de clasificación y la determinación de similitudes entre las familias de malware identificadas."
   ]
  },
  {
   "cell_type": "markdown",
   "metadata": {},
   "source": [
    "La primera acción que resulta necesaria al momento de comenzar con la creación del dataset a utilizar durante el laboratorio consiste en el proceso de importar las librerías necesarias para abrir el malware en Python y analizarlo correctamente. Las librerías que necesitamos en este caso en particular son `os`, `hashlib`, `pefile` y `pandas` para guardar el dataset en el formato .csv que necesitamos."
   ]
  },
  {
   "cell_type": "code",
   "execution_count": 114,
   "metadata": {},
   "outputs": [],
   "source": [
    "# Librerías necesarias para armar el dataset.\n",
    "import os\n",
    "import hashlib\n",
    "import pefile\n",
    "import pandas as pd"
   ]
  },
  {
   "cell_type": "markdown",
   "metadata": {},
   "source": [
    "Con las librerías necesarias disponibles para su utilización, necesitamos conseguir los hashes de cada archivo para poder utilizarlos con el objetivo de identificar cada malware del cual se están extrayendo características dentro del dataset. Para esto hemos desarrollado una función `get_file_hashes`, que obtiene los hashes utilizando la librería `hashlib` y los retorna para poder colocarlos como datos de columnas dentro de nuestro dataset."
   ]
  },
  {
   "cell_type": "code",
   "execution_count": 115,
   "metadata": {},
   "outputs": [],
   "source": [
    "# Función get_file_hashes, que obtiene los hashes de cada archivo de malware.\n",
    "def get_file_hashes(file_path):\n",
    "\n",
    "    # Apertura del archivo.\n",
    "    with open(file_path, \"rb\") as file:\n",
    "\n",
    "        # Obtención del contenido y los hashes del archivo.\n",
    "        content = file.read()\n",
    "        md5_hash = hashlib.md5(content).hexdigest()\n",
    "        sha1_hash = hashlib.sha1(content).hexdigest()\n",
    "        sha256_hash = hashlib.sha256(content).hexdigest()\n",
    "\n",
    "    # Retorno de los hashes del archivo.\n",
    "    return md5_hash, sha1_hash, sha256_hash"
   ]
  },
  {
   "cell_type": "markdown",
   "metadata": {},
   "source": [
    "Con la función que extrae los hashes finalizada, es necesario crear otra función que nos brinde todas las características del malware que necesitamos utilizar con el objetivo de identificar los clústers necesarios. La función es bastante extensa, pero se encuentra propiamente comentada en cada una de sus secciones con el objetivo de facilitar su entendimiento. Utiliza principalmente la librería `pefile`, y la misma también se llama `extract_pe_features`, y finalmente tiene como objetivo, valga la redundancia, extraer las características de cada archivo de malware."
   ]
  },
  {
   "cell_type": "code",
   "execution_count": 116,
   "metadata": {},
   "outputs": [],
   "source": [
    "# Función extract_pe_features, que extrae las características necesarias del malware.\n",
    "def extract_pe_features(file_path):\n",
    "\n",
    "    # Lista de features que se retornarán.\n",
    "    pe_features = []\n",
    "\n",
    "    # Bloque try-catch que abre y accede al malware.\n",
    "    try:\n",
    "\n",
    "        # Primeras catacterísticas a extraer.\n",
    "        pe = pefile.PE(file_path)\n",
    "        pe_features.append(len(pe.sections))  # Número de secciones.\n",
    "        pe_features.append(pe.FILE_HEADER.Machine)  # Arquitectura de la máquina.\n",
    "        pe_features.append(pe.FILE_HEADER.Characteristics)  # Características del archivo.\n",
    "        pe_features.append(pe.OPTIONAL_HEADER.SizeOfCode)  # Tamaño del código.\n",
    "        pe_features.append(pe.OPTIONAL_HEADER.SizeOfInitializedData)  # Tamaño de datos inicializados.\n",
    "        pe_features.append(pe.OPTIONAL_HEADER.SizeOfUninitializedData)  # Tamaño de datos no inicializados.\n",
    "        pe_features.append(pe.OPTIONAL_HEADER.AddressOfEntryPoint)  # Dirección del punto de entrada.\n",
    "        pe_features.append(pe.OPTIONAL_HEADER.ImageBase)  # Base de la imagen.\n",
    "        pe_features.append(pe.OPTIONAL_HEADER.MajorSubsystemVersion)  # Versión del subsistema principal.\n",
    "        pe_features.append(pe.OPTIONAL_HEADER.Subsystem)  # Subsistema.\n",
    "        pe_features.append(pe.OPTIONAL_HEADER.DllCharacteristics)  # Características de DLL.\n",
    "        \n",
    "        # Checksum del archivo.\n",
    "        pe_features.append(pe.OPTIONAL_HEADER.CheckSum)\n",
    "\n",
    "        # Importaciones de funciones del archivo.\n",
    "        imports = []\n",
    "        for entry in pe.DIRECTORY_ENTRY_IMPORT:\n",
    "            for imp in entry.imports:\n",
    "                imports.append(imp.name.decode(\"utf-8\", \"ignore\"))\n",
    "        pe_features.append(imports)\n",
    "\n",
    "        # Exportaciones de funciones del archivo.\n",
    "        exports = []\n",
    "        if (hasattr(pe, \"DIRECTORY_ENTRY_EXPORT\")):\n",
    "            for exp in pe.DIRECTORY_ENTRY_EXPORT.symbols:\n",
    "                exports.append(exp.name.decode(\"utf-8\", \"ignore\"))\n",
    "        pe_features.append(exports)\n",
    "\n",
    "        # Tiempo de compilación del archivo.\n",
    "        pe_features.append(pe.FILE_HEADER.TimeDateStamp)\n",
    "\n",
    "        # Firma digital del archivo.\n",
    "        pe_features.append(\"Signed\" if (hasattr(pe, \"DIRECTORY_ENTRY_CERT\")) else \"Unsigned\")\n",
    "\n",
    "        # Versiones de recursos del archivo.\n",
    "        if (hasattr(pe, \"VS_VERSIONINFO\")):\n",
    "            pe_features.append(pe.VS_VERSIONINFO.ProductVersion)\n",
    "            pe_features.append(pe.VS_VERSIONINFO.FileVersion)\n",
    "        else:\n",
    "            pe_features.append(None)\n",
    "            pe_features.append(None)\n",
    "\n",
    "        # Entropía del archivo.\n",
    "        section_entropies = [section.get_entropy() for section in pe.sections]\n",
    "        pe_features.append(section_entropies)\n",
    "\n",
    "        # Secciones ejecutables del archivo.\n",
    "        executable_sections = [section.IMAGE_SCN_MEM_EXECUTE for section in pe.sections]\n",
    "        pe_features.append(executable_sections)\n",
    "\n",
    "        # Número de secciones ejecutables del archivo.\n",
    "        executable_sections_length = sum(section.IMAGE_SCN_MEM_EXECUTE for section in pe.sections)\n",
    "        pe_features.append(executable_sections_length)\n",
    "\n",
    "        # TLS (Thread Local Storage) del archivo.\n",
    "        pe_features.append(pe.OPTIONAL_HEADER.DATA_DIRECTORY[9].VirtualAddress)\n",
    "        pe_features.append(pe.OPTIONAL_HEADER.DATA_DIRECTORY[9].Size)\n",
    "\n",
    "        # Dimensiones del Entry Resource del archivo.\n",
    "        if (hasattr(pe, \"DIRECTORY_ENTRY_RESOURCE\")):\n",
    "            pe_features.append(len(pe.DIRECTORY_ENTRY_RESOURCE.entries))\n",
    "            resource_size = sum(resource.directory.SizeOfData for resource in pe.DIRECTORY_ENTRY_RESOURCE.entries)\n",
    "            pe_features.append(resource_size)\n",
    "        else:\n",
    "            pe_features.extend([0, 0])\n",
    "\n",
    "    # Manejo de cualquier error manipulando el archivo.\n",
    "    except Exception as e:\n",
    "        print(f\"Error processing {file_path}: {e}\")\n",
    "\n",
    "    # Retorno de las features halladas.\n",
    "    return pe_features"
   ]
  },
  {
   "cell_type": "markdown",
   "metadata": {},
   "source": [
    "Con nuestra función de extracción de características de los archivos de malware proporcionados efectivamente completada, nos queda utilizarla junto con la función que fue creada para la obtención de hashes con el objetivo de crear el dataset. Debemos indicar la ruta del folder con el malware y la ruta del archivo .csv de salida con las características que necesitamos utilizar para el análisis."
   ]
  },
  {
   "cell_type": "code",
   "execution_count": 117,
   "metadata": {},
   "outputs": [],
   "source": [
    "# Rutas de entrada y de salida.\n",
    "malware_folder = \"./MALWR/MALWR\"\n",
    "output_csv = \"./data/malware-dataset.csv\""
   ]
  },
  {
   "cell_type": "markdown",
   "metadata": {},
   "source": [
    "Con estas rutas configuradas correctamente, nos hace falta una lista con toda la data a almacenar con el objetivo de finalmente ser almacenada en el archivo .csv que también configuramos."
   ]
  },
  {
   "cell_type": "code",
   "execution_count": 118,
   "metadata": {},
   "outputs": [],
   "source": [
    "# Lista con los datos a guardar.\n",
    "data = []"
   ]
  },
  {
   "cell_type": "markdown",
   "metadata": {},
   "source": [
    "Todo está correctamente configurado, y ahora lo único que hace falta es codificar el proceso de iterar en la carpeta con el malware y extraer todas sus características, para finalmente guardarlas en la lista `data` que instanciamos anteriormente."
   ]
  },
  {
   "cell_type": "code",
   "execution_count": 119,
   "metadata": {},
   "outputs": [
    {
     "name": "stdout",
     "output_type": "stream",
     "text": [
      "Error processing ./MALWR/MALWR\\.DS_Store: 'DOS Header magic not found.'\n",
      "Error processing ./MALWR/MALWR\\1F2EB7B090018D975E6D9B40868C94CA: 'ResourceDirData' object has no attribute 'SizeOfData'\n",
      "Error processing ./MALWR/MALWR\\33DE5067A433A6EC5C328067DC18EC37: 'ResourceDirData' object has no attribute 'SizeOfData'\n",
      "Error processing ./MALWR/MALWR\\65018CD542145A3792BA09985734C12A: 'ResourceDirData' object has no attribute 'SizeOfData'\n",
      "Error processing ./MALWR/MALWR\\650A6FCA433EE243391E4B4C11F09438: 'ResourceDirData' object has no attribute 'SizeOfData'\n",
      "Error processing ./MALWR/MALWR\\6FAA4740F99408D4D2DDDD0B09BBDEFD: 'ResourceDirData' object has no attribute 'SizeOfData'\n",
      "Error processing ./MALWR/MALWR\\785003A405BC7A4EBCBB21DDB757BF3F: 'ResourceDirData' object has no attribute 'SizeOfData'\n",
      "Error processing ./MALWR/MALWR\\8442AE37B91F279A9F06DE4C60B286A3: 'ResourceDirData' object has no attribute 'SizeOfData'\n",
      "Error processing ./MALWR/MALWR\\99A39866A657A10949FCB6D634BB30D5: 'ResourceDirData' object has no attribute 'SizeOfData'\n",
      "Error processing ./MALWR/MALWR\\A316D5AECA269CA865077E7FFF356E7D: 'ResourceDirData' object has no attribute 'SizeOfData'\n",
      "Error processing ./MALWR/MALWR\\B07322743778B5868475DBE66EEDAC4F: 'ResourceDirData' object has no attribute 'SizeOfData'\n",
      "Error processing ./MALWR/MALWR\\BVJ2D9FBF759F527AF373E34673DC3ACA462: 'ResourceDirData' object has no attribute 'SizeOfData'\n",
      "Error processing ./MALWR/MALWR\\EEE99EC8AA67B05407C01094184C33D2B5A44: 'ResourceDirData' object has no attribute 'SizeOfData'\n",
      "Error processing ./MALWR/MALWR\\F6655E39465C2FF5B016980D918EA028: 'ResourceDirData' object has no attribute 'SizeOfData'\n",
      "Error processing ./MALWR/MALWR\\F8437E44748D2C3FCF84019766F4E6DC: 'ResourceDirData' object has no attribute 'SizeOfData'\n",
      "Error processing ./MALWR/MALWR\\FGJKJJ1_2BA0D0083976A5C1E3315413CDCFFCD2: 'ResourceDirData' object has no attribute 'SizeOfData'\n",
      "Error processing ./MALWR/MALWR\\FGTR43_EF8E0FB20E7228C7492CCDC59D87C690: 'list' object has no attribute 'ProductVersion'\n",
      "Error processing ./MALWR/MALWR\\FHHH6576C196385407B0F7F4B1B537D88983: 'ResourceDirData' object has no attribute 'SizeOfData'\n",
      "Error processing ./MALWR/MALWR\\FTTR9EA3C16194CE354C244C1B74C46CD92E: 'ResourceDirData' object has no attribute 'SizeOfData'\n",
      "Error processing ./MALWR/MALWR\\GFT4_7DDD3D72EAD03C7518F5D47650C8572: 'list' object has no attribute 'ProductVersion'\n",
      "Error processing ./MALWR/MALWR\\HJGQDD892986B2249B5214639ECC8AC0223: 'ResourceDirData' object has no attribute 'SizeOfData'\n",
      "Error processing ./MALWR/MALWR\\JH78C0A33A1B472A8C16123FD696A5CE5EBB: 'ResourceDirData' object has no attribute 'SizeOfData'\n",
      "Error processing ./MALWR/MALWR\\JKK8CA6FE7A1315AF5AFEAC2961460A80569: 'ResourceDirData' object has no attribute 'SizeOfData'\n",
      "Error processing ./MALWR/MALWR\\L11_1415EB8519D13328091CC5C76A624E3D: 'list' object has no attribute 'ProductVersion'\n",
      "Error processing ./MALWR/MALWR\\NBV_8B75BCBFF174C25A0161F30758509A44: 'ResourceDirData' object has no attribute 'SizeOfData'\n",
      "Error processing ./MALWR/MALWR\\QW2_4C6BDDCCA2695D6202DF38708E14FC7E: 'list' object has no attribute 'ProductVersion'\n",
      "Error processing ./MALWR/MALWR\\RTC_7F85D7F628CE62D1D8F7B39D8940472: 'list' object has no attribute 'ProductVersion'\n",
      "Error processing ./MALWR/MALWR\\VBMM9_149B7BD7218AAB4E257D28469FDDB0D: 'list' object has no attribute 'ProductVersion'\n"
     ]
    }
   ],
   "source": [
    "# Ciclo que itera el folder de malware y guarda las características adquiridas.\n",
    "for file_name in os.listdir(malware_folder):\n",
    "    file_path = os.path.join(malware_folder, file_name)\n",
    "    md5_hash, sha1_hash, sha256_hash = get_file_hashes(file_path)\n",
    "    pe_features = extract_pe_features(file_path)\n",
    "    data.append([file_name, md5_hash, sha1_hash, sha256_hash] + pe_features)"
   ]
  },
  {
   "cell_type": "markdown",
   "metadata": {},
   "source": [
    "Finalmente, estamos listos para escribir el archivo .csv con las características encontradas por parte de cada uno de los archivos. Debemos configurar las columnas, el dataframe, y finalmente llamar a la función `to_csv` para pasar el dataframe al formato .csv que necesitamos utilizar."
   ]
  },
  {
   "cell_type": "code",
   "execution_count": 120,
   "metadata": {},
   "outputs": [],
   "source": [
    "# Columnas del dataset.\n",
    "columns = [\n",
    "  \"file_name\", \"md5\", \"sha1\", \"sha256\", \"num_sections\", \"machine\", \"characteristics\",\n",
    "  \"size_of_code\", \"size_of_initialized_data\", \"size_of_uninitialized_data\", \"address_of_entry_point\",\n",
    "  \"image_base\", \"major_subsystem_version\", \"subsystem\", \"dll_characteristics\", \"checksum\",\n",
    "  \"imports\", \"exports\", \"time_date_stamp\", \"digital_signature\", \"product_version\",\n",
    "  \"file_version\", \"section_entropies\", \"executable_sections\", \"executable_sections_length\",\n",
    "  \"tls_virtual_address\", \"tls_size\", \"resources_section_entries\", \"resources_section_size\",\n",
    "]\n",
    "\n",
    "# Instancia del dataframe con la data recolectada.\n",
    "df = pd.DataFrame(data, columns=columns)\n",
    "\n",
    "# Guardado del dataframe en formato .csv.\n",
    "df.to_csv(output_csv, index=False)"
   ]
  },
  {
   "cell_type": "markdown",
   "metadata": {},
   "source": [
    "### Exploración y pre procesamiento de datos"
   ]
  },
  {
   "cell_type": "markdown",
   "metadata": {},
   "source": [
    "Una vez completado el análisis estático de los archivos de malware y la creación del dataset inicial, se procedió con la etapa de exploración y preprocesamiento de los datos. Esta fase es crucial para garantizar la calidad y la adecuación de los datos para su posterior análisis mediante algoritmos de aprendizaje no supervisado.\n",
    "\n",
    "Durante la exploración de los datos, se realizaron diversas acciones para comprender mejor la naturaleza y la distribución de las características presentes en el dataset. Se examinaron estadísticas descriptivas, como medias, desviaciones estándar y rangos, para identificar posibles anomalías o patrones significativos en los datos. Además, se visualizaron gráficos y diagramas de dispersión para explorar relaciones entre variables y detectar posibles correlaciones o agrupamientos.\n",
    "\n",
    "Tras la exploración inicial, se procedió con el preprocesamiento de los datos para abordar posibles problemas como la presencia de valores faltantes, la normalización de variables numéricas y la codificación de variables categóricas. Se aplicaron técnicas de imputación para manejar valores faltantes, utilizando estrategias como la imputación por la media o la moda de la columna correspondiente.\n",
    "\n",
    "Para garantizar que las variables numéricas tuvieran un rango similar y no fueran dominantes en el proceso de agrupamiento, se realizó la normalización de datos mediante técnicas como la estandarización o la escala min-max. Esto permitió que todas las características contribuyeran de manera equitativa al proceso de clasificación.\n",
    "\n",
    "Además, se procedió con la codificación de variables categóricas utilizando técnicas como el label encoding, que convierte variables categóricas en vectores binarios, facilitando su inclusión en los algoritmos de aprendizaje automático."
   ]
  },
  {
   "cell_type": "markdown",
   "metadata": {},
   "source": [
    "Lo primero que debemos realizar con el objetivo de preprocesar y explorar los datos con los que terminamos luego de adquirir los mismos es importar la librería `pandas` para poder abrir el archivo que generamos y poder interactuar con el mismo."
   ]
  },
  {
   "cell_type": "code",
   "execution_count": 121,
   "metadata": {},
   "outputs": [],
   "source": [
    "# Librerías necesarias para desarrollar el laboratorio.\n",
    "import pandas as pd"
   ]
  },
  {
   "cell_type": "markdown",
   "metadata": {},
   "source": [
    "Con la librería importada, podemos proceder a leer el archivo y almacenarlo en un DataFrame de `pandas` utilizando la función `read_csv`, que lee un archivo .csv dada una ruta al mismo y retorna un DataFrame que podemos utilizar para analizar los datos y entrenar a los modelos que estaremos instanciando en el futuro."
   ]
  },
  {
   "cell_type": "code",
   "execution_count": 122,
   "metadata": {},
   "outputs": [],
   "source": [
    "# Lectura de datos con pandas.\n",
    "data = pd.read_csv(\"./data/malware-dataset.csv\")"
   ]
  },
  {
   "cell_type": "markdown",
   "metadata": {},
   "source": [
    "Con la data obtenida cargada en el presente notebook, podemos observar las columnas y dar un pequeño vistazo utilizando la función `head` que viene con la clase DataFrame que estamos utilizando. Esta función nos permite observar los primeros cinco registros del dataset, por defecto."
   ]
  },
  {
   "cell_type": "code",
   "execution_count": 123,
   "metadata": {},
   "outputs": [
    {
     "data": {
      "text/html": [
       "<div>\n",
       "<style scoped>\n",
       "    .dataframe tbody tr th:only-of-type {\n",
       "        vertical-align: middle;\n",
       "    }\n",
       "\n",
       "    .dataframe tbody tr th {\n",
       "        vertical-align: top;\n",
       "    }\n",
       "\n",
       "    .dataframe thead th {\n",
       "        text-align: right;\n",
       "    }\n",
       "</style>\n",
       "<table border=\"1\" class=\"dataframe\">\n",
       "  <thead>\n",
       "    <tr style=\"text-align: right;\">\n",
       "      <th></th>\n",
       "      <th>file_name</th>\n",
       "      <th>md5</th>\n",
       "      <th>sha1</th>\n",
       "      <th>sha256</th>\n",
       "      <th>num_sections</th>\n",
       "      <th>machine</th>\n",
       "      <th>characteristics</th>\n",
       "      <th>size_of_code</th>\n",
       "      <th>size_of_initialized_data</th>\n",
       "      <th>size_of_uninitialized_data</th>\n",
       "      <th>...</th>\n",
       "      <th>digital_signature</th>\n",
       "      <th>product_version</th>\n",
       "      <th>file_version</th>\n",
       "      <th>section_entropies</th>\n",
       "      <th>executable_sections</th>\n",
       "      <th>executable_sections_length</th>\n",
       "      <th>tls_virtual_address</th>\n",
       "      <th>tls_size</th>\n",
       "      <th>resources_section_entries</th>\n",
       "      <th>resources_section_size</th>\n",
       "    </tr>\n",
       "  </thead>\n",
       "  <tbody>\n",
       "    <tr>\n",
       "      <th>0</th>\n",
       "      <td>.DS_Store</td>\n",
       "      <td>7696dfa1913df71b116455221f201de0</td>\n",
       "      <td>0a0d99fcfec81d7d9c7f7a7df0ba60d196a7f141</td>\n",
       "      <td>0764d8ccf0a4e03d254b40f65d7939595642598dd41fcf...</td>\n",
       "      <td>NaN</td>\n",
       "      <td>NaN</td>\n",
       "      <td>NaN</td>\n",
       "      <td>NaN</td>\n",
       "      <td>NaN</td>\n",
       "      <td>NaN</td>\n",
       "      <td>...</td>\n",
       "      <td>NaN</td>\n",
       "      <td>NaN</td>\n",
       "      <td>NaN</td>\n",
       "      <td>NaN</td>\n",
       "      <td>NaN</td>\n",
       "      <td>NaN</td>\n",
       "      <td>NaN</td>\n",
       "      <td>NaN</td>\n",
       "      <td>NaN</td>\n",
       "      <td>NaN</td>\n",
       "    </tr>\n",
       "    <tr>\n",
       "      <th>1</th>\n",
       "      <td>1F2EB7B090018D975E6D9B40868C94CA</td>\n",
       "      <td>ce91225d493753ef351f132b84addb58</td>\n",
       "      <td>997982756092ac603570536cc5334a542647ab45</td>\n",
       "      <td>0a76f1439cc52fed9e9627f82686c6daedefcf191952ae...</td>\n",
       "      <td>3.0</td>\n",
       "      <td>332.0</td>\n",
       "      <td>271.0</td>\n",
       "      <td>4096.0</td>\n",
       "      <td>4096.0</td>\n",
       "      <td>20480.0</td>\n",
       "      <td>...</td>\n",
       "      <td>Unsigned</td>\n",
       "      <td>NaN</td>\n",
       "      <td>NaN</td>\n",
       "      <td>[0.0, 7.565065380188014, 2.5736900127135667]</td>\n",
       "      <td>[True, True, False]</td>\n",
       "      <td>2.0</td>\n",
       "      <td>0.0</td>\n",
       "      <td>0.0</td>\n",
       "      <td>1.0</td>\n",
       "      <td>NaN</td>\n",
       "    </tr>\n",
       "    <tr>\n",
       "      <th>2</th>\n",
       "      <td>33DE5067A433A6EC5C328067DC18EC37</td>\n",
       "      <td>c1d952dc830080046723d63f70e790e9</td>\n",
       "      <td>992e9e924ab5fb4e85ba00da37b8ae6414a7289c</td>\n",
       "      <td>2512c61f77b21ec2847379453b3035f6e23ab77d8ab092...</td>\n",
       "      <td>3.0</td>\n",
       "      <td>332.0</td>\n",
       "      <td>271.0</td>\n",
       "      <td>4096.0</td>\n",
       "      <td>4096.0</td>\n",
       "      <td>20480.0</td>\n",
       "      <td>...</td>\n",
       "      <td>Unsigned</td>\n",
       "      <td>NaN</td>\n",
       "      <td>NaN</td>\n",
       "      <td>[0.0, 7.533359674945775, 2.9876524007111227]</td>\n",
       "      <td>[True, True, False]</td>\n",
       "      <td>2.0</td>\n",
       "      <td>0.0</td>\n",
       "      <td>0.0</td>\n",
       "      <td>1.0</td>\n",
       "      <td>NaN</td>\n",
       "    </tr>\n",
       "    <tr>\n",
       "      <th>3</th>\n",
       "      <td>65018CD542145A3792BA09985734C12A</td>\n",
       "      <td>da035a6ba07e51b939ffdea2d2e9381e</td>\n",
       "      <td>cd4725b74baebec6faaacb0fdd81cbd44830162b</td>\n",
       "      <td>4086f0a4f2a15c4e5896a158950e13c9350b4d9e850a0f...</td>\n",
       "      <td>3.0</td>\n",
       "      <td>332.0</td>\n",
       "      <td>271.0</td>\n",
       "      <td>4096.0</td>\n",
       "      <td>4096.0</td>\n",
       "      <td>20480.0</td>\n",
       "      <td>...</td>\n",
       "      <td>Unsigned</td>\n",
       "      <td>NaN</td>\n",
       "      <td>NaN</td>\n",
       "      <td>[0.0, 7.53185495424105, 2.9876524007111227]</td>\n",
       "      <td>[True, True, False]</td>\n",
       "      <td>2.0</td>\n",
       "      <td>0.0</td>\n",
       "      <td>0.0</td>\n",
       "      <td>1.0</td>\n",
       "      <td>NaN</td>\n",
       "    </tr>\n",
       "    <tr>\n",
       "      <th>4</th>\n",
       "      <td>650A6FCA433EE243391E4B4C11F09438</td>\n",
       "      <td>768f27f004110971bb096c8b96b7c52e</td>\n",
       "      <td>678591ab1840c8f0f618c8e59e22aec68fba8573</td>\n",
       "      <td>08c41e549dd5d125860b8aa2b9e0c8b736e068a177cf8a...</td>\n",
       "      <td>3.0</td>\n",
       "      <td>332.0</td>\n",
       "      <td>271.0</td>\n",
       "      <td>4096.0</td>\n",
       "      <td>4096.0</td>\n",
       "      <td>20480.0</td>\n",
       "      <td>...</td>\n",
       "      <td>Unsigned</td>\n",
       "      <td>NaN</td>\n",
       "      <td>NaN</td>\n",
       "      <td>[0.0, 7.536876934949231, 2.9876524007111227]</td>\n",
       "      <td>[True, True, False]</td>\n",
       "      <td>2.0</td>\n",
       "      <td>0.0</td>\n",
       "      <td>0.0</td>\n",
       "      <td>1.0</td>\n",
       "      <td>NaN</td>\n",
       "    </tr>\n",
       "  </tbody>\n",
       "</table>\n",
       "<p>5 rows × 29 columns</p>\n",
       "</div>"
      ],
      "text/plain": [
       "                          file_name                               md5  \\\n",
       "0                         .DS_Store  7696dfa1913df71b116455221f201de0   \n",
       "1  1F2EB7B090018D975E6D9B40868C94CA  ce91225d493753ef351f132b84addb58   \n",
       "2  33DE5067A433A6EC5C328067DC18EC37  c1d952dc830080046723d63f70e790e9   \n",
       "3  65018CD542145A3792BA09985734C12A  da035a6ba07e51b939ffdea2d2e9381e   \n",
       "4  650A6FCA433EE243391E4B4C11F09438  768f27f004110971bb096c8b96b7c52e   \n",
       "\n",
       "                                       sha1  \\\n",
       "0  0a0d99fcfec81d7d9c7f7a7df0ba60d196a7f141   \n",
       "1  997982756092ac603570536cc5334a542647ab45   \n",
       "2  992e9e924ab5fb4e85ba00da37b8ae6414a7289c   \n",
       "3  cd4725b74baebec6faaacb0fdd81cbd44830162b   \n",
       "4  678591ab1840c8f0f618c8e59e22aec68fba8573   \n",
       "\n",
       "                                              sha256  num_sections  machine  \\\n",
       "0  0764d8ccf0a4e03d254b40f65d7939595642598dd41fcf...           NaN      NaN   \n",
       "1  0a76f1439cc52fed9e9627f82686c6daedefcf191952ae...           3.0    332.0   \n",
       "2  2512c61f77b21ec2847379453b3035f6e23ab77d8ab092...           3.0    332.0   \n",
       "3  4086f0a4f2a15c4e5896a158950e13c9350b4d9e850a0f...           3.0    332.0   \n",
       "4  08c41e549dd5d125860b8aa2b9e0c8b736e068a177cf8a...           3.0    332.0   \n",
       "\n",
       "   characteristics  size_of_code  size_of_initialized_data  \\\n",
       "0              NaN           NaN                       NaN   \n",
       "1            271.0        4096.0                    4096.0   \n",
       "2            271.0        4096.0                    4096.0   \n",
       "3            271.0        4096.0                    4096.0   \n",
       "4            271.0        4096.0                    4096.0   \n",
       "\n",
       "   size_of_uninitialized_data  ...  digital_signature  product_version  \\\n",
       "0                         NaN  ...                NaN              NaN   \n",
       "1                     20480.0  ...           Unsigned              NaN   \n",
       "2                     20480.0  ...           Unsigned              NaN   \n",
       "3                     20480.0  ...           Unsigned              NaN   \n",
       "4                     20480.0  ...           Unsigned              NaN   \n",
       "\n",
       "   file_version                             section_entropies  \\\n",
       "0           NaN                                           NaN   \n",
       "1           NaN  [0.0, 7.565065380188014, 2.5736900127135667]   \n",
       "2           NaN  [0.0, 7.533359674945775, 2.9876524007111227]   \n",
       "3           NaN   [0.0, 7.53185495424105, 2.9876524007111227]   \n",
       "4           NaN  [0.0, 7.536876934949231, 2.9876524007111227]   \n",
       "\n",
       "   executable_sections  executable_sections_length tls_virtual_address  \\\n",
       "0                  NaN                         NaN                 NaN   \n",
       "1  [True, True, False]                         2.0                 0.0   \n",
       "2  [True, True, False]                         2.0                 0.0   \n",
       "3  [True, True, False]                         2.0                 0.0   \n",
       "4  [True, True, False]                         2.0                 0.0   \n",
       "\n",
       "  tls_size  resources_section_entries resources_section_size  \n",
       "0      NaN                        NaN                    NaN  \n",
       "1      0.0                        1.0                    NaN  \n",
       "2      0.0                        1.0                    NaN  \n",
       "3      0.0                        1.0                    NaN  \n",
       "4      0.0                        1.0                    NaN  \n",
       "\n",
       "[5 rows x 29 columns]"
      ]
     },
     "execution_count": 123,
     "metadata": {},
     "output_type": "execute_result"
    }
   ],
   "source": [
    "# Primeros cinco registros del dataset.\n",
    "data.head()"
   ]
  },
  {
   "cell_type": "markdown",
   "metadata": {},
   "source": [
    "Las columnas \"file_name\", \"md5\", \"sha1\" y \"sha256\" fueron colocadas con el objetivo de representar cada entrada por medio de la información básica del nombre del ejecutable y sus hashes, pero teniendo como objetivo obtener clústers que nos permitan observar cuántos tipos de malware hay, podemos deshacernos de estas columnas para manejar únicamente columnas que no sean tan específicas como estos datos obtenidos por parte de cada malware presente en la carpeta brindada."
   ]
  },
  {
   "cell_type": "code",
   "execution_count": 124,
   "metadata": {},
   "outputs": [],
   "source": [
    "# Eliminación de las columnas mencionadas.\n",
    "data = data.drop([\"file_name\", \"md5\", \"sha1\", \"sha256\"], axis=1)"
   ]
  },
  {
   "cell_type": "markdown",
   "metadata": {},
   "source": [
    "Con estas columnas eliminadas, podemos observar cómo estas ya no se encuentran disponibles en el dataset que estamos manejando. Nos quedamos con cuatro columnas menos las cuales debemos observar y analizar para la ingeniería de características a utilizar."
   ]
  },
  {
   "cell_type": "code",
   "execution_count": 125,
   "metadata": {},
   "outputs": [
    {
     "data": {
      "text/html": [
       "<div>\n",
       "<style scoped>\n",
       "    .dataframe tbody tr th:only-of-type {\n",
       "        vertical-align: middle;\n",
       "    }\n",
       "\n",
       "    .dataframe tbody tr th {\n",
       "        vertical-align: top;\n",
       "    }\n",
       "\n",
       "    .dataframe thead th {\n",
       "        text-align: right;\n",
       "    }\n",
       "</style>\n",
       "<table border=\"1\" class=\"dataframe\">\n",
       "  <thead>\n",
       "    <tr style=\"text-align: right;\">\n",
       "      <th></th>\n",
       "      <th>num_sections</th>\n",
       "      <th>machine</th>\n",
       "      <th>characteristics</th>\n",
       "      <th>size_of_code</th>\n",
       "      <th>size_of_initialized_data</th>\n",
       "      <th>size_of_uninitialized_data</th>\n",
       "      <th>address_of_entry_point</th>\n",
       "      <th>image_base</th>\n",
       "      <th>major_subsystem_version</th>\n",
       "      <th>subsystem</th>\n",
       "      <th>...</th>\n",
       "      <th>digital_signature</th>\n",
       "      <th>product_version</th>\n",
       "      <th>file_version</th>\n",
       "      <th>section_entropies</th>\n",
       "      <th>executable_sections</th>\n",
       "      <th>executable_sections_length</th>\n",
       "      <th>tls_virtual_address</th>\n",
       "      <th>tls_size</th>\n",
       "      <th>resources_section_entries</th>\n",
       "      <th>resources_section_size</th>\n",
       "    </tr>\n",
       "  </thead>\n",
       "  <tbody>\n",
       "    <tr>\n",
       "      <th>0</th>\n",
       "      <td>NaN</td>\n",
       "      <td>NaN</td>\n",
       "      <td>NaN</td>\n",
       "      <td>NaN</td>\n",
       "      <td>NaN</td>\n",
       "      <td>NaN</td>\n",
       "      <td>NaN</td>\n",
       "      <td>NaN</td>\n",
       "      <td>NaN</td>\n",
       "      <td>NaN</td>\n",
       "      <td>...</td>\n",
       "      <td>NaN</td>\n",
       "      <td>NaN</td>\n",
       "      <td>NaN</td>\n",
       "      <td>NaN</td>\n",
       "      <td>NaN</td>\n",
       "      <td>NaN</td>\n",
       "      <td>NaN</td>\n",
       "      <td>NaN</td>\n",
       "      <td>NaN</td>\n",
       "      <td>NaN</td>\n",
       "    </tr>\n",
       "    <tr>\n",
       "      <th>1</th>\n",
       "      <td>3.0</td>\n",
       "      <td>332.0</td>\n",
       "      <td>271.0</td>\n",
       "      <td>4096.0</td>\n",
       "      <td>4096.0</td>\n",
       "      <td>20480.0</td>\n",
       "      <td>27632.0</td>\n",
       "      <td>4194304.0</td>\n",
       "      <td>4.0</td>\n",
       "      <td>2.0</td>\n",
       "      <td>...</td>\n",
       "      <td>Unsigned</td>\n",
       "      <td>NaN</td>\n",
       "      <td>NaN</td>\n",
       "      <td>[0.0, 7.565065380188014, 2.5736900127135667]</td>\n",
       "      <td>[True, True, False]</td>\n",
       "      <td>2.0</td>\n",
       "      <td>0.0</td>\n",
       "      <td>0.0</td>\n",
       "      <td>1.0</td>\n",
       "      <td>NaN</td>\n",
       "    </tr>\n",
       "    <tr>\n",
       "      <th>2</th>\n",
       "      <td>3.0</td>\n",
       "      <td>332.0</td>\n",
       "      <td>271.0</td>\n",
       "      <td>4096.0</td>\n",
       "      <td>4096.0</td>\n",
       "      <td>20480.0</td>\n",
       "      <td>28048.0</td>\n",
       "      <td>4194304.0</td>\n",
       "      <td>4.0</td>\n",
       "      <td>2.0</td>\n",
       "      <td>...</td>\n",
       "      <td>Unsigned</td>\n",
       "      <td>NaN</td>\n",
       "      <td>NaN</td>\n",
       "      <td>[0.0, 7.533359674945775, 2.9876524007111227]</td>\n",
       "      <td>[True, True, False]</td>\n",
       "      <td>2.0</td>\n",
       "      <td>0.0</td>\n",
       "      <td>0.0</td>\n",
       "      <td>1.0</td>\n",
       "      <td>NaN</td>\n",
       "    </tr>\n",
       "    <tr>\n",
       "      <th>3</th>\n",
       "      <td>3.0</td>\n",
       "      <td>332.0</td>\n",
       "      <td>271.0</td>\n",
       "      <td>4096.0</td>\n",
       "      <td>4096.0</td>\n",
       "      <td>20480.0</td>\n",
       "      <td>28048.0</td>\n",
       "      <td>4194304.0</td>\n",
       "      <td>4.0</td>\n",
       "      <td>2.0</td>\n",
       "      <td>...</td>\n",
       "      <td>Unsigned</td>\n",
       "      <td>NaN</td>\n",
       "      <td>NaN</td>\n",
       "      <td>[0.0, 7.53185495424105, 2.9876524007111227]</td>\n",
       "      <td>[True, True, False]</td>\n",
       "      <td>2.0</td>\n",
       "      <td>0.0</td>\n",
       "      <td>0.0</td>\n",
       "      <td>1.0</td>\n",
       "      <td>NaN</td>\n",
       "    </tr>\n",
       "    <tr>\n",
       "      <th>4</th>\n",
       "      <td>3.0</td>\n",
       "      <td>332.0</td>\n",
       "      <td>271.0</td>\n",
       "      <td>4096.0</td>\n",
       "      <td>4096.0</td>\n",
       "      <td>20480.0</td>\n",
       "      <td>28064.0</td>\n",
       "      <td>4194304.0</td>\n",
       "      <td>4.0</td>\n",
       "      <td>2.0</td>\n",
       "      <td>...</td>\n",
       "      <td>Unsigned</td>\n",
       "      <td>NaN</td>\n",
       "      <td>NaN</td>\n",
       "      <td>[0.0, 7.536876934949231, 2.9876524007111227]</td>\n",
       "      <td>[True, True, False]</td>\n",
       "      <td>2.0</td>\n",
       "      <td>0.0</td>\n",
       "      <td>0.0</td>\n",
       "      <td>1.0</td>\n",
       "      <td>NaN</td>\n",
       "    </tr>\n",
       "  </tbody>\n",
       "</table>\n",
       "<p>5 rows × 25 columns</p>\n",
       "</div>"
      ],
      "text/plain": [
       "   num_sections  machine  characteristics  size_of_code  \\\n",
       "0           NaN      NaN              NaN           NaN   \n",
       "1           3.0    332.0            271.0        4096.0   \n",
       "2           3.0    332.0            271.0        4096.0   \n",
       "3           3.0    332.0            271.0        4096.0   \n",
       "4           3.0    332.0            271.0        4096.0   \n",
       "\n",
       "   size_of_initialized_data  size_of_uninitialized_data  \\\n",
       "0                       NaN                         NaN   \n",
       "1                    4096.0                     20480.0   \n",
       "2                    4096.0                     20480.0   \n",
       "3                    4096.0                     20480.0   \n",
       "4                    4096.0                     20480.0   \n",
       "\n",
       "   address_of_entry_point  image_base  major_subsystem_version  subsystem  \\\n",
       "0                     NaN         NaN                      NaN        NaN   \n",
       "1                 27632.0   4194304.0                      4.0        2.0   \n",
       "2                 28048.0   4194304.0                      4.0        2.0   \n",
       "3                 28048.0   4194304.0                      4.0        2.0   \n",
       "4                 28064.0   4194304.0                      4.0        2.0   \n",
       "\n",
       "   ...  digital_signature  product_version file_version  \\\n",
       "0  ...                NaN              NaN          NaN   \n",
       "1  ...           Unsigned              NaN          NaN   \n",
       "2  ...           Unsigned              NaN          NaN   \n",
       "3  ...           Unsigned              NaN          NaN   \n",
       "4  ...           Unsigned              NaN          NaN   \n",
       "\n",
       "                              section_entropies  executable_sections  \\\n",
       "0                                           NaN                  NaN   \n",
       "1  [0.0, 7.565065380188014, 2.5736900127135667]  [True, True, False]   \n",
       "2  [0.0, 7.533359674945775, 2.9876524007111227]  [True, True, False]   \n",
       "3   [0.0, 7.53185495424105, 2.9876524007111227]  [True, True, False]   \n",
       "4  [0.0, 7.536876934949231, 2.9876524007111227]  [True, True, False]   \n",
       "\n",
       "  executable_sections_length  tls_virtual_address  tls_size  \\\n",
       "0                        NaN                  NaN       NaN   \n",
       "1                        2.0                  0.0       0.0   \n",
       "2                        2.0                  0.0       0.0   \n",
       "3                        2.0                  0.0       0.0   \n",
       "4                        2.0                  0.0       0.0   \n",
       "\n",
       "  resources_section_entries resources_section_size  \n",
       "0                       NaN                    NaN  \n",
       "1                       1.0                    NaN  \n",
       "2                       1.0                    NaN  \n",
       "3                       1.0                    NaN  \n",
       "4                       1.0                    NaN  \n",
       "\n",
       "[5 rows x 25 columns]"
      ]
     },
     "execution_count": 125,
     "metadata": {},
     "output_type": "execute_result"
    }
   ],
   "source": [
    "# Primeros cinco registros sin las columnas mencionadas.\n",
    "data.head()"
   ]
  },
  {
   "cell_type": "markdown",
   "metadata": {},
   "source": [
    "Podemos seguir obteniendo información para observar las columnas que nos quedaron. La función `info` es perfecta para esta tarea, ya que nos retorna un DataFrame con el nombre de cada columna y el tipo de dato que la misma nos presenta."
   ]
  },
  {
   "cell_type": "code",
   "execution_count": 126,
   "metadata": {},
   "outputs": [
    {
     "name": "stdout",
     "output_type": "stream",
     "text": [
      "<class 'pandas.core.frame.DataFrame'>\n",
      "RangeIndex: 41 entries, 0 to 40\n",
      "Data columns (total 25 columns):\n",
      " #   Column                      Non-Null Count  Dtype  \n",
      "---  ------                      --------------  -----  \n",
      " 0   num_sections                40 non-null     float64\n",
      " 1   machine                     40 non-null     float64\n",
      " 2   characteristics             40 non-null     float64\n",
      " 3   size_of_code                40 non-null     float64\n",
      " 4   size_of_initialized_data    40 non-null     float64\n",
      " 5   size_of_uninitialized_data  40 non-null     float64\n",
      " 6   address_of_entry_point      40 non-null     float64\n",
      " 7   image_base                  40 non-null     float64\n",
      " 8   major_subsystem_version     40 non-null     float64\n",
      " 9   subsystem                   40 non-null     float64\n",
      " 10  dll_characteristics         40 non-null     float64\n",
      " 11  checksum                    40 non-null     float64\n",
      " 12  imports                     40 non-null     object \n",
      " 13  exports                     40 non-null     object \n",
      " 14  time_date_stamp             40 non-null     float64\n",
      " 15  digital_signature           40 non-null     object \n",
      " 16  product_version             0 non-null      float64\n",
      " 17  file_version                0 non-null      float64\n",
      " 18  section_entropies           34 non-null     object \n",
      " 19  executable_sections         34 non-null     object \n",
      " 20  executable_sections_length  34 non-null     float64\n",
      " 21  tls_virtual_address         34 non-null     float64\n",
      " 22  tls_size                    34 non-null     float64\n",
      " 23  resources_section_entries   34 non-null     float64\n",
      " 24  resources_section_size      13 non-null     float64\n",
      "dtypes: float64(20), object(5)\n",
      "memory usage: 8.1+ KB\n"
     ]
    }
   ],
   "source": [
    "# Información de las columnas del dataset.\n",
    "data.info()"
   ]
  },
  {
   "cell_type": "markdown",
   "metadata": {},
   "source": [
    "La gran mayoría de columnas que se encuentran presentes en el dataset son columnas numéricas decimales, lo cual es una muy buena noticia, ya que estas son las columnas que buscamos con el objetivo de entrenar a un modelo de inteligencia artificial no supervisado como el que vamos a utilizar. Sin embargo, hay algunas columnas categóricas que tenemos qué analizar y preprocesar. Para observar cuáles son, podemos seleccionar las columnas categóricas con la función `select_dtypes`, y posteriormente retornar las columnas de este dataset filtrado."
   ]
  },
  {
   "cell_type": "code",
   "execution_count": 127,
   "metadata": {},
   "outputs": [
    {
     "data": {
      "text/plain": [
       "Index(['imports', 'exports', 'digital_signature', 'section_entropies',\n",
       "       'executable_sections'],\n",
       "      dtype='object')"
      ]
     },
     "execution_count": 127,
     "metadata": {},
     "output_type": "execute_result"
    }
   ],
   "source": [
    "# Retorno de las columnas categóricas del dataset.\n",
    "data.select_dtypes(include=\"object\").columns"
   ]
  },
  {
   "cell_type": "markdown",
   "metadata": {},
   "source": [
    "Sabiendo cuáles son estas columnas, podemos empezar a observar qué contienen y cómo podemos preprocesarlas correctamente. La primera columna que aparece es la del listado de APIs importadas por parte del ejecutable, por lo que podemos observar sus valores únicos utilizando la función `unique` y también podemos graficar la distribución de estas APIs utilizando la función `hist`."
   ]
  },
  {
   "cell_type": "code",
   "execution_count": 128,
   "metadata": {},
   "outputs": [
    {
     "data": {
      "text/plain": [
       "array([nan,\n",
       "       \"['LoadLibraryA', 'ExitProcess', 'GetProcAddress', 'VirtualProtect', 'atol', 'LoadStringA', 'send']\",\n",
       "       \"['LoadLibraryA', 'ExitProcess', 'GetProcAddress', 'VirtualProtect', 'atol', 'SHChangeNotify', 'LoadStringA', 'closesocket']\",\n",
       "       \"['RegSaveKeyA', 'BitBlt', 'LoadLibraryA', 'GetProcAddress', 'VirtualProtect', 'free', 'Netbios', 'atoi', 'GetDC', 'WSAGetLastError']\",\n",
       "       \"['RegSaveKeyA', 'BitBlt', 'LoadLibraryA', 'ExitProcess', 'GetProcAddress', 'VirtualProtect', '_iob', 'Netbios', 'EnumProcessModules', 'GetDC', 'send']\",\n",
       "       \"['CreateFileA', 'LocalAlloc', 'Sleep', 'CreateThread', 'CreateMutexA', 'CopyFileW', 'GetFileSize', 'CreateProcessA', 'GetEnvironmentVariableW', 'GetShortPathNameW', 'GetStartupInfoA', 'GetModuleHandleA', 'ReadFile', 'LocalFree', 'GetLastError', 'GetModuleFileNameW', 'CloseHandle', 'SendMessageA', 'FindWindowExA', 'RegQueryValueExA', 'RegCloseKey', 'RegSetValueExW', 'RegOpenKeyExA', 'SHGetSpecialFolderPathW', 'ShellExecuteW', '_controlfp', '_except_handler3', '__set_app_type', 'memset', '__CxxFrameHandler', 'strlen', 'sprintf', 'memcpy', 'strcpy', 'strcat', '_mbsnbcpy', '_mbsnbcmp', 'atol', '_mbscmp', 'atoi', 'fclose', 'fwrite', 'fopen', 'strstr', 'wcslen', 'wcstombs', 'setlocale', 'wcscmp', 'wcscat', 'mbstowcs', 'wcsrchr', 'wcscpy', 'getenv', 'strcmp', 'time', 'free', '__dllonexit', '_onexit', '_exit', '_XcptFilter', 'exit', '_acmdln', '__getmainargs', '_initterm', '__setusermatherr', '_adjust_fdiv', '__p__commode', '__p__fmode', '_strnicmp', 'HttpAddRequestHeadersA', 'HttpOpenRequestA', 'HttpEndRequestA', 'InternetWriteFile', 'HttpSendRequestA', 'InternetReadFile', 'HttpQueryInfoA', 'InternetAttemptConnect', 'InternetCloseHandle', 'InternetConnectA', 'InternetOpenA', 'HttpSendRequestExA', 'gethostbyname', 'inet_ntoa', 'WSAStartup', 'gethostname']\",\n",
       "       \"['RegSaveKeyA', 'BitBlt', 'LoadLibraryA', 'GetProcAddress', 'VirtualProtect', '_iob', 'Netbios', 'EnumProcessModules', 'GetDC', 'WSASetLastError']\",\n",
       "       \"['GetModuleHandleA', 'GetWindowsDirectoryA', 'GetModuleFileNameA', 'CopyFileA', 'OutputDebugStringA', 'CreateProcessA', 'CreateMutexA', 'CreateThread', 'Sleep', 'LocalAlloc', 'CreateFileA', 'GetFileSize', 'ReadFile', 'LocalFree', 'GetLastError', 'GetStartupInfoA', 'CloseHandle', 'SendMessageA', 'FindWindowExA', 'OpenSCManagerA', 'CreateServiceA', 'ChangeServiceConfig2A', 'OpenServiceA', 'CloseServiceHandle', 'StartServiceA', 'QueryServiceStatus', 'RegisterServiceCtrlHandlerA', 'SetServiceStatus', 'StartServiceCtrlDispatcherA', 'RegOpenKeyExA', 'RegQueryValueExA', 'RegCloseKey', '_controlfp', 'memset', '__CxxFrameHandler', 'strlen', 'sprintf', 'memcpy', 'strcpy', 'strcat', '_mbsnbcpy', '_mbsnbcmp', 'atol', '_mbscmp', 'atoi', 'fclose', 'fwrite', 'fopen', 'strstr', 'getenv', 'strcmp', 'time', 'printf', 'free', '__dllonexit', '_onexit', '_exit', '_XcptFilter', 'exit', '_acmdln', '__getmainargs', '_initterm', '__setusermatherr', '_adjust_fdiv', '__p__commode', '__p__fmode', '__set_app_type', '_except_handler3', '_strnicmp', 'HttpAddRequestHeadersA', 'HttpOpenRequestA', 'HttpEndRequestA', 'InternetWriteFile', 'HttpSendRequestExA', 'InternetReadFile', 'HttpSendRequestA', 'InternetCloseHandle', 'InternetOpenA', 'InternetAttemptConnect', 'InternetConnectA', 'HttpQueryInfoA', 'gethostbyname', 'inet_ntoa', 'WSAStartup', 'gethostname']\",\n",
       "       \"['LoadLibraryA', 'ExitProcess', 'GetProcAddress', 'VirtualProtect', '_iob', 'ShellExecuteA', 'InternetOpenA', 'inet_ntoa']\",\n",
       "       \"['RegSaveKeyA', 'BitBlt', 'LoadLibraryA', 'ExitProcess', 'GetProcAddress', 'VirtualProtect', 'exit', 'Netbios', 'atoi', 'EnumProcessModules', 'GetDC', 'WSAGetLastError']\"],\n",
       "      dtype=object)"
      ]
     },
     "execution_count": 128,
     "metadata": {},
     "output_type": "execute_result"
    }
   ],
   "source": [
    "# Valores únicos en la columna \"imports\".\n",
    "data[\"imports\"].unique()"
   ]
  },
  {
   "cell_type": "code",
   "execution_count": 129,
   "metadata": {},
   "outputs": [
    {
     "data": {
      "text/plain": [
       "<AxesSubplot:>"
      ]
     },
     "execution_count": 129,
     "metadata": {},
     "output_type": "execute_result"
    },
    {
     "data": {
      "image/png": "[encoded data removed]",
      "text/plain": [
       "<Figure size 640x480 with 1 Axes>"
      ]
     },
     "metadata": {},
     "output_type": "display_data"
    }
   ],
   "source": [
    "# Histograma de los valores de la columna \"imports\".\n",
    "data[\"imports\"].hist()"
   ]
  },
  {
   "cell_type": "markdown",
   "metadata": {},
   "source": [
    "La distribución de esta columna es bastante desbalanceada, pero por lo demás la información se encuentra bastante bien. Sería bastante útil eliminar el \"nan\" por algo como una lista vacía, lo cual es sumamente fácil de hacer debido a la existencia de la función `fillna`."
   ]
  },
  {
   "cell_type": "code",
   "execution_count": 130,
   "metadata": {},
   "outputs": [
    {
     "data": {
      "text/plain": [
       "array(['[]',\n",
       "       \"['LoadLibraryA', 'ExitProcess', 'GetProcAddress', 'VirtualProtect', 'atol', 'LoadStringA', 'send']\",\n",
       "       \"['LoadLibraryA', 'ExitProcess', 'GetProcAddress', 'VirtualProtect', 'atol', 'SHChangeNotify', 'LoadStringA', 'closesocket']\",\n",
       "       \"['RegSaveKeyA', 'BitBlt', 'LoadLibraryA', 'GetProcAddress', 'VirtualProtect', 'free', 'Netbios', 'atoi', 'GetDC', 'WSAGetLastError']\",\n",
       "       \"['RegSaveKeyA', 'BitBlt', 'LoadLibraryA', 'ExitProcess', 'GetProcAddress', 'VirtualProtect', '_iob', 'Netbios', 'EnumProcessModules', 'GetDC', 'send']\",\n",
       "       \"['CreateFileA', 'LocalAlloc', 'Sleep', 'CreateThread', 'CreateMutexA', 'CopyFileW', 'GetFileSize', 'CreateProcessA', 'GetEnvironmentVariableW', 'GetShortPathNameW', 'GetStartupInfoA', 'GetModuleHandleA', 'ReadFile', 'LocalFree', 'GetLastError', 'GetModuleFileNameW', 'CloseHandle', 'SendMessageA', 'FindWindowExA', 'RegQueryValueExA', 'RegCloseKey', 'RegSetValueExW', 'RegOpenKeyExA', 'SHGetSpecialFolderPathW', 'ShellExecuteW', '_controlfp', '_except_handler3', '__set_app_type', 'memset', '__CxxFrameHandler', 'strlen', 'sprintf', 'memcpy', 'strcpy', 'strcat', '_mbsnbcpy', '_mbsnbcmp', 'atol', '_mbscmp', 'atoi', 'fclose', 'fwrite', 'fopen', 'strstr', 'wcslen', 'wcstombs', 'setlocale', 'wcscmp', 'wcscat', 'mbstowcs', 'wcsrchr', 'wcscpy', 'getenv', 'strcmp', 'time', 'free', '__dllonexit', '_onexit', '_exit', '_XcptFilter', 'exit', '_acmdln', '__getmainargs', '_initterm', '__setusermatherr', '_adjust_fdiv', '__p__commode', '__p__fmode', '_strnicmp', 'HttpAddRequestHeadersA', 'HttpOpenRequestA', 'HttpEndRequestA', 'InternetWriteFile', 'HttpSendRequestA', 'InternetReadFile', 'HttpQueryInfoA', 'InternetAttemptConnect', 'InternetCloseHandle', 'InternetConnectA', 'InternetOpenA', 'HttpSendRequestExA', 'gethostbyname', 'inet_ntoa', 'WSAStartup', 'gethostname']\",\n",
       "       \"['RegSaveKeyA', 'BitBlt', 'LoadLibraryA', 'GetProcAddress', 'VirtualProtect', '_iob', 'Netbios', 'EnumProcessModules', 'GetDC', 'WSASetLastError']\",\n",
       "       \"['GetModuleHandleA', 'GetWindowsDirectoryA', 'GetModuleFileNameA', 'CopyFileA', 'OutputDebugStringA', 'CreateProcessA', 'CreateMutexA', 'CreateThread', 'Sleep', 'LocalAlloc', 'CreateFileA', 'GetFileSize', 'ReadFile', 'LocalFree', 'GetLastError', 'GetStartupInfoA', 'CloseHandle', 'SendMessageA', 'FindWindowExA', 'OpenSCManagerA', 'CreateServiceA', 'ChangeServiceConfig2A', 'OpenServiceA', 'CloseServiceHandle', 'StartServiceA', 'QueryServiceStatus', 'RegisterServiceCtrlHandlerA', 'SetServiceStatus', 'StartServiceCtrlDispatcherA', 'RegOpenKeyExA', 'RegQueryValueExA', 'RegCloseKey', '_controlfp', 'memset', '__CxxFrameHandler', 'strlen', 'sprintf', 'memcpy', 'strcpy', 'strcat', '_mbsnbcpy', '_mbsnbcmp', 'atol', '_mbscmp', 'atoi', 'fclose', 'fwrite', 'fopen', 'strstr', 'getenv', 'strcmp', 'time', 'printf', 'free', '__dllonexit', '_onexit', '_exit', '_XcptFilter', 'exit', '_acmdln', '__getmainargs', '_initterm', '__setusermatherr', '_adjust_fdiv', '__p__commode', '__p__fmode', '__set_app_type', '_except_handler3', '_strnicmp', 'HttpAddRequestHeadersA', 'HttpOpenRequestA', 'HttpEndRequestA', 'InternetWriteFile', 'HttpSendRequestExA', 'InternetReadFile', 'HttpSendRequestA', 'InternetCloseHandle', 'InternetOpenA', 'InternetAttemptConnect', 'InternetConnectA', 'HttpQueryInfoA', 'gethostbyname', 'inet_ntoa', 'WSAStartup', 'gethostname']\",\n",
       "       \"['LoadLibraryA', 'ExitProcess', 'GetProcAddress', 'VirtualProtect', '_iob', 'ShellExecuteA', 'InternetOpenA', 'inet_ntoa']\",\n",
       "       \"['RegSaveKeyA', 'BitBlt', 'LoadLibraryA', 'ExitProcess', 'GetProcAddress', 'VirtualProtect', 'exit', 'Netbios', 'atoi', 'EnumProcessModules', 'GetDC', 'WSAGetLastError']\"],\n",
       "      dtype=object)"
      ]
     },
     "execution_count": 130,
     "metadata": {},
     "output_type": "execute_result"
    }
   ],
   "source": [
    "# Proceso de remover los \"nan\" con listas vacías.\n",
    "data[\"imports\"] = data[\"imports\"].fillna(\"[]\")\n",
    "data[\"imports\"].unique()"
   ]
  },
  {
   "cell_type": "markdown",
   "metadata": {},
   "source": [
    "Procedemos a realizar el mismo procedimiento de visualización y preprocesamiento de la data con la siguiente columna categórica que se nos presenta, la cual es \"exports\". Los pasos siguen siendo los mismos, es decir, ver valores únicos, limpiar los \"nan\" y graficar la distribución de la columna."
   ]
  },
  {
   "cell_type": "code",
   "execution_count": 131,
   "metadata": {},
   "outputs": [
    {
     "data": {
      "text/plain": [
       "array([nan, '[]',\n",
       "       \"['RundllInstall', 'RundllUninstall', 'ServiceInstall', 'ServiceMain', 'UnServiceInstall']\"],\n",
       "      dtype=object)"
      ]
     },
     "execution_count": 131,
     "metadata": {},
     "output_type": "execute_result"
    }
   ],
   "source": [
    "# Valores únicos de la columna.\n",
    "data[\"exports\"].unique()"
   ]
  },
  {
   "cell_type": "code",
   "execution_count": 132,
   "metadata": {},
   "outputs": [],
   "source": [
    "# Rellenado de las filas con \"nan\".\n",
    "data[\"exports\"] = data[\"exports\"].fillna(\"[]\")"
   ]
  },
  {
   "cell_type": "code",
   "execution_count": 133,
   "metadata": {},
   "outputs": [
    {
     "data": {
      "text/plain": [
       "<AxesSubplot:>"
      ]
     },
     "execution_count": 133,
     "metadata": {},
     "output_type": "execute_result"
    },
    {
     "data": {
      "image/png": "[encoded data removed]",
      "text/plain": [
       "<Figure size 640x480 with 1 Axes>"
      ]
     },
     "metadata": {},
     "output_type": "display_data"
    }
   ],
   "source": [
    "# Histograma de los valores de la columna.\n",
    "data[\"exports\"].hist()"
   ]
  },
  {
   "cell_type": "markdown",
   "metadata": {},
   "source": [
    "La columna \"exports\" resultó bastante más sencilla de clasificar, preprocesar y visualizar a comparación de la columna de APIs importadas por cada malware analizado. La columna que sigue es \"digital_signature\", y podemos observar las mismas características con el mismo procedimiento."
   ]
  },
  {
   "cell_type": "code",
   "execution_count": 134,
   "metadata": {},
   "outputs": [
    {
     "data": {
      "text/plain": [
       "array([nan, 'Unsigned'], dtype=object)"
      ]
     },
     "execution_count": 134,
     "metadata": {},
     "output_type": "execute_result"
    }
   ],
   "source": [
    "# Valores únicos de la columna.\n",
    "data[\"digital_signature\"].unique()"
   ]
  },
  {
   "cell_type": "code",
   "execution_count": 135,
   "metadata": {},
   "outputs": [
    {
     "data": {
      "text/plain": [
       "<AxesSubplot:>"
      ]
     },
     "execution_count": 135,
     "metadata": {},
     "output_type": "execute_result"
    },
    {
     "data": {
      "image/png": "[encoded data removed]",
      "text/plain": [
       "<Figure size 640x480 with 1 Axes>"
      ]
     },
     "metadata": {},
     "output_type": "display_data"
    }
   ],
   "source": [
    "# Histograma de la columna.\n",
    "data[\"digital_signature\"].hist()"
   ]
  },
  {
   "cell_type": "code",
   "execution_count": 136,
   "metadata": {},
   "outputs": [
    {
     "data": {
      "text/plain": [
       "0     Unsigned\n",
       "1     Unsigned\n",
       "2     Unsigned\n",
       "3     Unsigned\n",
       "4     Unsigned\n",
       "5     Unsigned\n",
       "6     Unsigned\n",
       "7     Unsigned\n",
       "8     Unsigned\n",
       "9     Unsigned\n",
       "10    Unsigned\n",
       "11    Unsigned\n",
       "12    Unsigned\n",
       "13    Unsigned\n",
       "14    Unsigned\n",
       "15    Unsigned\n",
       "16    Unsigned\n",
       "17    Unsigned\n",
       "18    Unsigned\n",
       "19    Unsigned\n",
       "20    Unsigned\n",
       "21    Unsigned\n",
       "22    Unsigned\n",
       "23    Unsigned\n",
       "24    Unsigned\n",
       "25    Unsigned\n",
       "26    Unsigned\n",
       "27    Unsigned\n",
       "28    Unsigned\n",
       "29    Unsigned\n",
       "30    Unsigned\n",
       "31    Unsigned\n",
       "32    Unsigned\n",
       "33    Unsigned\n",
       "34    Unsigned\n",
       "35    Unsigned\n",
       "36    Unsigned\n",
       "37    Unsigned\n",
       "38    Unsigned\n",
       "39    Unsigned\n",
       "40    Unsigned\n",
       "Name: digital_signature, dtype: object"
      ]
     },
     "execution_count": 136,
     "metadata": {},
     "output_type": "execute_result"
    }
   ],
   "source": [
    "# Rellenado de valores \"nan\", es decir, el único unsigned.\n",
    "data[\"digital_signature\"].fillna(\"Unsigned\")"
   ]
  },
  {
   "cell_type": "markdown",
   "metadata": {},
   "source": [
    "La columna presenta todo el malware en estado Unsigned, es decir, sin firma digital. Únicamente fue necesario cambiar un valor \"nan\" a \"Unsigned\", ya que el malware fue analizado individualmente y, efectivamente, presentaba un estado de \"Unsigned\". La siguiente columna a observar es \"section_entropies\" la cual resulta muy interesante."
   ]
  },
  {
   "cell_type": "code",
   "execution_count": 137,
   "metadata": {},
   "outputs": [
    {
     "data": {
      "text/plain": [
       "array([nan, '[0.0, 7.565065380188014, 2.5736900127135667]',\n",
       "       '[0.0, 7.533359674945775, 2.9876524007111227]',\n",
       "       '[0.0, 7.53185495424105, 2.9876524007111227]',\n",
       "       '[0.0, 7.536876934949231, 2.9876524007111227]',\n",
       "       '[0.0, 7.53896782380375, 2.9876524007111227]',\n",
       "       '[0.0, 7.544000450805727, 2.9876524007111227]',\n",
       "       '[0.0, 7.5806919158085355, 2.5775962627135667]',\n",
       "       '[0.0, 7.523040324845204, 2.9876524007111227]',\n",
       "       '[0.0, 7.532823953038207, 2.9876524007111227]',\n",
       "       '[0.0, 7.896621228967558, 2.9572088080925063]',\n",
       "       '[0.0, 7.8966623740996855, 2.9591619330925063]',\n",
       "       '[0.0, 7.574681778291654, 2.5736900127135667]',\n",
       "       '[0.0, 7.89958322760233, 3.785294290138867]',\n",
       "       '[0.0, 7.5337536100876035, 2.9876524007111227]',\n",
       "       '[6.241011178413984, 4.15134652699513, 4.053479681205818]',\n",
       "       '[0.0, 7.574147822090668, 2.5775962627135667]',\n",
       "       '[0.0, 7.578296200105048, 2.5736900127135667]',\n",
       "       '[0.0, 7.535127597099006, 2.9876524007111227]',\n",
       "       '[0.0, 7.535489108718607, 2.9876524007111227]',\n",
       "       '[0.0, 7.546681435572614, 2.9876524007111227]',\n",
       "       '[0.0, 7.578628913714821, 2.5775962627135667]',\n",
       "       '[6.24874994394335, 4.14788026121551, 4.257962652329548]',\n",
       "       '[0.0, 7.544057764396927, 2.9876524007111227]',\n",
       "       '[0.0, 7.535087695020122, 2.9837461507111227]',\n",
       "       '[0.0, 7.538334440546503, 2.9837461507111227]',\n",
       "       '[6.241011178413984, 4.15134652699513, 4.038015350096955]',\n",
       "       '[6.241011178413984, 4.15134652699513, 4.11725139430462]',\n",
       "       '[0.0, 7.542229006077649, 2.9837461507111227]',\n",
       "       '[6.241011178413984, 4.15134652699513, 4.0935756336213105]',\n",
       "       '[0.0, 7.896616123331578, 2.9591619330925063]',\n",
       "       '[6.238951671137994, 4.14788026121551, 4.122209506217304]',\n",
       "       '[6.241755640445412, 4.151982877589863, 4.160899473148142]',\n",
       "       '[0.0, 7.898163197041445, 2.3540468220970663]',\n",
       "       '[0.0, 7.898275734962124, 2.3540468220970663]'], dtype=object)"
      ]
     },
     "execution_count": 137,
     "metadata": {},
     "output_type": "execute_result"
    }
   ],
   "source": [
    "data[\"section_entropies\"].unique()"
   ]
  },
  {
   "cell_type": "markdown",
   "metadata": {},
   "source": [
    "Podemos observar cómo cada entrada es un array con tres valores. Estos valores son la entropía de cada una de las secciones que se encuentran presentes en el malware. Sin embargo, este formato de la data no resulta nada útil por cómo es actualmente. Tenemos qué reemplazar el \"nan\" por un array con tres valores y después sacar los tres valores de cada entrada y colocarlos cada uno en su respectiva columna."
   ]
  },
  {
   "cell_type": "code",
   "execution_count": 138,
   "metadata": {},
   "outputs": [],
   "source": [
    "# Relleno de los valores \"nan\" con una lista con tres valores en cero.\n",
    "data[\"section_entropies\"] = data[\"section_entropies\"].fillna(\"[0.0, 0.0, 0.0]\")"
   ]
  },
  {
   "cell_type": "code",
   "execution_count": 139,
   "metadata": {},
   "outputs": [],
   "source": [
    "# Librería que nos permite evaluar cada lista de la columna.\n",
    "from ast import literal_eval"
   ]
  },
  {
   "cell_type": "code",
   "execution_count": 140,
   "metadata": {},
   "outputs": [
    {
     "data": {
      "text/plain": [
       "0                                       [0.0, 0.0, 0.0]\n",
       "1          [0.0, 7.565065380188014, 2.5736900127135667]\n",
       "2          [0.0, 7.533359674945775, 2.9876524007111227]\n",
       "3           [0.0, 7.53185495424105, 2.9876524007111227]\n",
       "4          [0.0, 7.536876934949231, 2.9876524007111227]\n",
       "5           [0.0, 7.53896782380375, 2.9876524007111227]\n",
       "6          [0.0, 7.544000450805727, 2.9876524007111227]\n",
       "7         [0.0, 7.5806919158085355, 2.5775962627135667]\n",
       "8          [0.0, 7.523040324845204, 2.9876524007111227]\n",
       "9          [0.0, 7.532823953038207, 2.9876524007111227]\n",
       "10         [0.0, 7.896621228967558, 2.9572088080925063]\n",
       "11        [0.0, 7.8966623740996855, 2.9591619330925063]\n",
       "12         [0.0, 7.574681778291654, 2.5736900127135667]\n",
       "13           [0.0, 7.89958322760233, 3.785294290138867]\n",
       "14        [0.0, 7.5337536100876035, 2.9876524007111227]\n",
       "15    [6.241011178413984, 4.15134652699513, 4.053479...\n",
       "16         [0.0, 7.574147822090668, 2.5775962627135667]\n",
       "17         [0.0, 7.578296200105048, 2.5736900127135667]\n",
       "18         [0.0, 7.535127597099006, 2.9876524007111227]\n",
       "19         [0.0, 7.535489108718607, 2.9876524007111227]\n",
       "20                                      [0.0, 0.0, 0.0]\n",
       "21         [0.0, 7.546681435572614, 2.9876524007111227]\n",
       "22         [0.0, 7.578628913714821, 2.5775962627135667]\n",
       "23    [6.24874994394335, 4.14788026121551, 4.2579626...\n",
       "24                                      [0.0, 0.0, 0.0]\n",
       "25         [0.0, 7.544057764396927, 2.9876524007111227]\n",
       "26         [0.0, 7.535087695020122, 2.9837461507111227]\n",
       "27         [0.0, 7.538334440546503, 2.9837461507111227]\n",
       "28    [6.241011178413984, 4.15134652699513, 4.038015...\n",
       "29    [6.241011178413984, 4.15134652699513, 4.117251...\n",
       "30                                      [0.0, 0.0, 0.0]\n",
       "31         [0.0, 7.542229006077649, 2.9837461507111227]\n",
       "32    [6.241011178413984, 4.15134652699513, 4.093575...\n",
       "33         [0.0, 7.896616123331578, 2.9591619330925063]\n",
       "34    [6.238951671137994, 4.14788026121551, 4.122209...\n",
       "35                                      [0.0, 0.0, 0.0]\n",
       "36                                      [0.0, 0.0, 0.0]\n",
       "37    [6.241755640445412, 4.151982877589863, 4.16089...\n",
       "38         [0.0, 7.898163197041445, 2.3540468220970663]\n",
       "39                                      [0.0, 0.0, 0.0]\n",
       "40         [0.0, 7.898275734962124, 2.3540468220970663]\n",
       "Name: section_entropies, dtype: object"
      ]
     },
     "execution_count": 140,
     "metadata": {},
     "output_type": "execute_result"
    }
   ],
   "source": [
    "# Cambio de string a lista en la columna.\n",
    "data[\"section_entropies\"] = data[\"section_entropies\"].apply(lambda entry: literal_eval(entry))\n",
    "data[\"section_entropies\"]"
   ]
  },
  {
   "cell_type": "code",
   "execution_count": 141,
   "metadata": {},
   "outputs": [],
   "source": [
    "# Agregación de las tres nuevas columnas con cada entropía.\n",
    "data[[\"first_section_entropy\", \"second_section_entropy\", \"third_section_entropy\"]] = pd.DataFrame(data[\"section_entropies\"].tolist())\n",
    "data = data.drop(\"section_entropies\", axis=1)"
   ]
  },
  {
   "cell_type": "code",
   "execution_count": 142,
   "metadata": {},
   "outputs": [
    {
     "data": {
      "text/html": [
       "<div>\n",
       "<style scoped>\n",
       "    .dataframe tbody tr th:only-of-type {\n",
       "        vertical-align: middle;\n",
       "    }\n",
       "\n",
       "    .dataframe tbody tr th {\n",
       "        vertical-align: top;\n",
       "    }\n",
       "\n",
       "    .dataframe thead th {\n",
       "        text-align: right;\n",
       "    }\n",
       "</style>\n",
       "<table border=\"1\" class=\"dataframe\">\n",
       "  <thead>\n",
       "    <tr style=\"text-align: right;\">\n",
       "      <th></th>\n",
       "      <th>first_section_entropy</th>\n",
       "      <th>second_section_entropy</th>\n",
       "      <th>third_section_entropy</th>\n",
       "    </tr>\n",
       "  </thead>\n",
       "  <tbody>\n",
       "    <tr>\n",
       "      <th>0</th>\n",
       "      <td>0.000000</td>\n",
       "      <td>0.000000</td>\n",
       "      <td>0.000000</td>\n",
       "    </tr>\n",
       "    <tr>\n",
       "      <th>1</th>\n",
       "      <td>0.000000</td>\n",
       "      <td>7.565065</td>\n",
       "      <td>2.573690</td>\n",
       "    </tr>\n",
       "    <tr>\n",
       "      <th>2</th>\n",
       "      <td>0.000000</td>\n",
       "      <td>7.533360</td>\n",
       "      <td>2.987652</td>\n",
       "    </tr>\n",
       "    <tr>\n",
       "      <th>3</th>\n",
       "      <td>0.000000</td>\n",
       "      <td>7.531855</td>\n",
       "      <td>2.987652</td>\n",
       "    </tr>\n",
       "    <tr>\n",
       "      <th>4</th>\n",
       "      <td>0.000000</td>\n",
       "      <td>7.536877</td>\n",
       "      <td>2.987652</td>\n",
       "    </tr>\n",
       "    <tr>\n",
       "      <th>5</th>\n",
       "      <td>0.000000</td>\n",
       "      <td>7.538968</td>\n",
       "      <td>2.987652</td>\n",
       "    </tr>\n",
       "    <tr>\n",
       "      <th>6</th>\n",
       "      <td>0.000000</td>\n",
       "      <td>7.544000</td>\n",
       "      <td>2.987652</td>\n",
       "    </tr>\n",
       "    <tr>\n",
       "      <th>7</th>\n",
       "      <td>0.000000</td>\n",
       "      <td>7.580692</td>\n",
       "      <td>2.577596</td>\n",
       "    </tr>\n",
       "    <tr>\n",
       "      <th>8</th>\n",
       "      <td>0.000000</td>\n",
       "      <td>7.523040</td>\n",
       "      <td>2.987652</td>\n",
       "    </tr>\n",
       "    <tr>\n",
       "      <th>9</th>\n",
       "      <td>0.000000</td>\n",
       "      <td>7.532824</td>\n",
       "      <td>2.987652</td>\n",
       "    </tr>\n",
       "    <tr>\n",
       "      <th>10</th>\n",
       "      <td>0.000000</td>\n",
       "      <td>7.896621</td>\n",
       "      <td>2.957209</td>\n",
       "    </tr>\n",
       "    <tr>\n",
       "      <th>11</th>\n",
       "      <td>0.000000</td>\n",
       "      <td>7.896662</td>\n",
       "      <td>2.959162</td>\n",
       "    </tr>\n",
       "    <tr>\n",
       "      <th>12</th>\n",
       "      <td>0.000000</td>\n",
       "      <td>7.574682</td>\n",
       "      <td>2.573690</td>\n",
       "    </tr>\n",
       "    <tr>\n",
       "      <th>13</th>\n",
       "      <td>0.000000</td>\n",
       "      <td>7.899583</td>\n",
       "      <td>3.785294</td>\n",
       "    </tr>\n",
       "    <tr>\n",
       "      <th>14</th>\n",
       "      <td>0.000000</td>\n",
       "      <td>7.533754</td>\n",
       "      <td>2.987652</td>\n",
       "    </tr>\n",
       "    <tr>\n",
       "      <th>15</th>\n",
       "      <td>6.241011</td>\n",
       "      <td>4.151347</td>\n",
       "      <td>4.053480</td>\n",
       "    </tr>\n",
       "    <tr>\n",
       "      <th>16</th>\n",
       "      <td>0.000000</td>\n",
       "      <td>7.574148</td>\n",
       "      <td>2.577596</td>\n",
       "    </tr>\n",
       "    <tr>\n",
       "      <th>17</th>\n",
       "      <td>0.000000</td>\n",
       "      <td>7.578296</td>\n",
       "      <td>2.573690</td>\n",
       "    </tr>\n",
       "    <tr>\n",
       "      <th>18</th>\n",
       "      <td>0.000000</td>\n",
       "      <td>7.535128</td>\n",
       "      <td>2.987652</td>\n",
       "    </tr>\n",
       "    <tr>\n",
       "      <th>19</th>\n",
       "      <td>0.000000</td>\n",
       "      <td>7.535489</td>\n",
       "      <td>2.987652</td>\n",
       "    </tr>\n",
       "    <tr>\n",
       "      <th>20</th>\n",
       "      <td>0.000000</td>\n",
       "      <td>0.000000</td>\n",
       "      <td>0.000000</td>\n",
       "    </tr>\n",
       "    <tr>\n",
       "      <th>21</th>\n",
       "      <td>0.000000</td>\n",
       "      <td>7.546681</td>\n",
       "      <td>2.987652</td>\n",
       "    </tr>\n",
       "    <tr>\n",
       "      <th>22</th>\n",
       "      <td>0.000000</td>\n",
       "      <td>7.578629</td>\n",
       "      <td>2.577596</td>\n",
       "    </tr>\n",
       "    <tr>\n",
       "      <th>23</th>\n",
       "      <td>6.248750</td>\n",
       "      <td>4.147880</td>\n",
       "      <td>4.257963</td>\n",
       "    </tr>\n",
       "    <tr>\n",
       "      <th>24</th>\n",
       "      <td>0.000000</td>\n",
       "      <td>0.000000</td>\n",
       "      <td>0.000000</td>\n",
       "    </tr>\n",
       "    <tr>\n",
       "      <th>25</th>\n",
       "      <td>0.000000</td>\n",
       "      <td>7.544058</td>\n",
       "      <td>2.987652</td>\n",
       "    </tr>\n",
       "    <tr>\n",
       "      <th>26</th>\n",
       "      <td>0.000000</td>\n",
       "      <td>7.535088</td>\n",
       "      <td>2.983746</td>\n",
       "    </tr>\n",
       "    <tr>\n",
       "      <th>27</th>\n",
       "      <td>0.000000</td>\n",
       "      <td>7.538334</td>\n",
       "      <td>2.983746</td>\n",
       "    </tr>\n",
       "    <tr>\n",
       "      <th>28</th>\n",
       "      <td>6.241011</td>\n",
       "      <td>4.151347</td>\n",
       "      <td>4.038015</td>\n",
       "    </tr>\n",
       "    <tr>\n",
       "      <th>29</th>\n",
       "      <td>6.241011</td>\n",
       "      <td>4.151347</td>\n",
       "      <td>4.117251</td>\n",
       "    </tr>\n",
       "    <tr>\n",
       "      <th>30</th>\n",
       "      <td>0.000000</td>\n",
       "      <td>0.000000</td>\n",
       "      <td>0.000000</td>\n",
       "    </tr>\n",
       "    <tr>\n",
       "      <th>31</th>\n",
       "      <td>0.000000</td>\n",
       "      <td>7.542229</td>\n",
       "      <td>2.983746</td>\n",
       "    </tr>\n",
       "    <tr>\n",
       "      <th>32</th>\n",
       "      <td>6.241011</td>\n",
       "      <td>4.151347</td>\n",
       "      <td>4.093576</td>\n",
       "    </tr>\n",
       "    <tr>\n",
       "      <th>33</th>\n",
       "      <td>0.000000</td>\n",
       "      <td>7.896616</td>\n",
       "      <td>2.959162</td>\n",
       "    </tr>\n",
       "    <tr>\n",
       "      <th>34</th>\n",
       "      <td>6.238952</td>\n",
       "      <td>4.147880</td>\n",
       "      <td>4.122210</td>\n",
       "    </tr>\n",
       "    <tr>\n",
       "      <th>35</th>\n",
       "      <td>0.000000</td>\n",
       "      <td>0.000000</td>\n",
       "      <td>0.000000</td>\n",
       "    </tr>\n",
       "    <tr>\n",
       "      <th>36</th>\n",
       "      <td>0.000000</td>\n",
       "      <td>0.000000</td>\n",
       "      <td>0.000000</td>\n",
       "    </tr>\n",
       "    <tr>\n",
       "      <th>37</th>\n",
       "      <td>6.241756</td>\n",
       "      <td>4.151983</td>\n",
       "      <td>4.160899</td>\n",
       "    </tr>\n",
       "    <tr>\n",
       "      <th>38</th>\n",
       "      <td>0.000000</td>\n",
       "      <td>7.898163</td>\n",
       "      <td>2.354047</td>\n",
       "    </tr>\n",
       "    <tr>\n",
       "      <th>39</th>\n",
       "      <td>0.000000</td>\n",
       "      <td>0.000000</td>\n",
       "      <td>0.000000</td>\n",
       "    </tr>\n",
       "    <tr>\n",
       "      <th>40</th>\n",
       "      <td>0.000000</td>\n",
       "      <td>7.898276</td>\n",
       "      <td>2.354047</td>\n",
       "    </tr>\n",
       "  </tbody>\n",
       "</table>\n",
       "</div>"
      ],
      "text/plain": [
       "    first_section_entropy  second_section_entropy  third_section_entropy\n",
       "0                0.000000                0.000000               0.000000\n",
       "1                0.000000                7.565065               2.573690\n",
       "2                0.000000                7.533360               2.987652\n",
       "3                0.000000                7.531855               2.987652\n",
       "4                0.000000                7.536877               2.987652\n",
       "5                0.000000                7.538968               2.987652\n",
       "6                0.000000                7.544000               2.987652\n",
       "7                0.000000                7.580692               2.577596\n",
       "8                0.000000                7.523040               2.987652\n",
       "9                0.000000                7.532824               2.987652\n",
       "10               0.000000                7.896621               2.957209\n",
       "11               0.000000                7.896662               2.959162\n",
       "12               0.000000                7.574682               2.573690\n",
       "13               0.000000                7.899583               3.785294\n",
       "14               0.000000                7.533754               2.987652\n",
       "15               6.241011                4.151347               4.053480\n",
       "16               0.000000                7.574148               2.577596\n",
       "17               0.000000                7.578296               2.573690\n",
       "18               0.000000                7.535128               2.987652\n",
       "19               0.000000                7.535489               2.987652\n",
       "20               0.000000                0.000000               0.000000\n",
       "21               0.000000                7.546681               2.987652\n",
       "22               0.000000                7.578629               2.577596\n",
       "23               6.248750                4.147880               4.257963\n",
       "24               0.000000                0.000000               0.000000\n",
       "25               0.000000                7.544058               2.987652\n",
       "26               0.000000                7.535088               2.983746\n",
       "27               0.000000                7.538334               2.983746\n",
       "28               6.241011                4.151347               4.038015\n",
       "29               6.241011                4.151347               4.117251\n",
       "30               0.000000                0.000000               0.000000\n",
       "31               0.000000                7.542229               2.983746\n",
       "32               6.241011                4.151347               4.093576\n",
       "33               0.000000                7.896616               2.959162\n",
       "34               6.238952                4.147880               4.122210\n",
       "35               0.000000                0.000000               0.000000\n",
       "36               0.000000                0.000000               0.000000\n",
       "37               6.241756                4.151983               4.160899\n",
       "38               0.000000                7.898163               2.354047\n",
       "39               0.000000                0.000000               0.000000\n",
       "40               0.000000                7.898276               2.354047"
      ]
     },
     "execution_count": 142,
     "metadata": {},
     "output_type": "execute_result"
    }
   ],
   "source": [
    "# Retorno del dataset con las tres nuevas columnas agregadas.\n",
    "data[[\"first_section_entropy\", \"second_section_entropy\", \"third_section_entropy\"]]"
   ]
  },
  {
   "cell_type": "markdown",
   "metadata": {},
   "source": [
    "Con este procedimiento obtenemos como resultado tres columnas que se vuelven increíblemente valiosas en lugar de una columna con un array que era prácticamente inutilizable. Finalmente podemos proceder con la columna \"executable_sections\" y tratarla de la misma forma que se trataron las anteriores."
   ]
  },
  {
   "cell_type": "code",
   "execution_count": 143,
   "metadata": {},
   "outputs": [
    {
     "data": {
      "text/plain": [
       "array([nan, '[True, True, False]', '[True, False, False]'], dtype=object)"
      ]
     },
     "execution_count": 143,
     "metadata": {},
     "output_type": "execute_result"
    }
   ],
   "source": [
    "# Valores únicos de la columna.\n",
    "data[\"executable_sections\"].unique()"
   ]
  },
  {
   "cell_type": "code",
   "execution_count": 144,
   "metadata": {},
   "outputs": [
    {
     "data": {
      "text/plain": [
       "<AxesSubplot:>"
      ]
     },
     "execution_count": 144,
     "metadata": {},
     "output_type": "execute_result"
    },
    {
     "data": {
      "image/png": "[encoded data removed]",
      "text/plain": [
       "<Figure size 640x480 with 1 Axes>"
      ]
     },
     "metadata": {},
     "output_type": "display_data"
    }
   ],
   "source": [
    "# Histograma de la columna.\n",
    "data[\"executable_sections\"].hist()"
   ]
  },
  {
   "cell_type": "markdown",
   "metadata": {},
   "source": [
    "Con cómo hemos podido observar cada una de las columnas, ahora podemos obtener como conclusión las columnas que se necesitan preprocesar. Las que se necesitan codificar de primero son las columnas de tipo \"object\", las cuales son las categóricas."
   ]
  },
  {
   "cell_type": "code",
   "execution_count": 145,
   "metadata": {},
   "outputs": [
    {
     "data": {
      "text/plain": [
       "['imports', 'exports', 'digital_signature', 'executable_sections']"
      ]
     },
     "execution_count": 145,
     "metadata": {},
     "output_type": "execute_result"
    }
   ],
   "source": [
    "# Columnas categóricas del dataset.\n",
    "list(data.select_dtypes(include=\"object\").columns)"
   ]
  },
  {
   "cell_type": "code",
   "execution_count": 146,
   "metadata": {},
   "outputs": [
    {
     "name": "stdout",
     "output_type": "stream",
     "text": [
      "<class 'pandas.core.frame.DataFrame'>\n",
      "RangeIndex: 41 entries, 0 to 40\n",
      "Data columns (total 27 columns):\n",
      " #   Column                      Non-Null Count  Dtype  \n",
      "---  ------                      --------------  -----  \n",
      " 0   num_sections                40 non-null     float64\n",
      " 1   machine                     40 non-null     float64\n",
      " 2   characteristics             40 non-null     float64\n",
      " 3   size_of_code                40 non-null     float64\n",
      " 4   size_of_initialized_data    40 non-null     float64\n",
      " 5   size_of_uninitialized_data  40 non-null     float64\n",
      " 6   address_of_entry_point      40 non-null     float64\n",
      " 7   image_base                  40 non-null     float64\n",
      " 8   major_subsystem_version     40 non-null     float64\n",
      " 9   subsystem                   40 non-null     float64\n",
      " 10  dll_characteristics         40 non-null     float64\n",
      " 11  checksum                    40 non-null     float64\n",
      " 12  imports                     41 non-null     object \n",
      " 13  exports                     41 non-null     object \n",
      " 14  time_date_stamp             40 non-null     float64\n",
      " 15  digital_signature           40 non-null     object \n",
      " 16  product_version             0 non-null      float64\n",
      " 17  file_version                0 non-null      float64\n",
      " 18  executable_sections         34 non-null     object \n",
      " 19  executable_sections_length  34 non-null     float64\n",
      " 20  tls_virtual_address         34 non-null     float64\n",
      " 21  tls_size                    34 non-null     float64\n",
      " 22  resources_section_entries   34 non-null     float64\n",
      " 23  resources_section_size      13 non-null     float64\n",
      " 24  first_section_entropy       41 non-null     float64\n",
      " 25  second_section_entropy      41 non-null     float64\n",
      " 26  third_section_entropy       41 non-null     float64\n",
      "dtypes: float64(23), object(4)\n",
      "memory usage: 8.8+ KB\n"
     ]
    }
   ],
   "source": [
    "dd = data.copy()\n",
    "dd.info()"
   ]
  },
  {
   "cell_type": "code",
   "execution_count": 147,
   "metadata": {},
   "outputs": [
    {
     "data": {
      "text/plain": [
       "41"
      ]
     },
     "execution_count": 147,
     "metadata": {},
     "output_type": "execute_result"
    }
   ],
   "source": [
    "len(dd['imports'])"
   ]
  },
  {
   "cell_type": "code",
   "execution_count": 148,
   "metadata": {},
   "outputs": [
    {
     "data": {
      "text/plain": [
       "41"
      ]
     },
     "execution_count": 148,
     "metadata": {},
     "output_type": "execute_result"
    }
   ],
   "source": [
    "len(dd['exports'])"
   ]
  },
  {
   "cell_type": "markdown",
   "metadata": {},
   "source": [
    "Este es el listado de columnas categóricas a codificar. En este caso en específico, el plan es utilizar `LabelEncoder` con el objetivo de pasar de datos categóricos a datos numéricos fáciles de utilizar y comprender por parte de un modelo de aprendizaje no supervisado como el que estamos utilizando."
   ]
  },
  {
   "cell_type": "code",
   "execution_count": 149,
   "metadata": {},
   "outputs": [
    {
     "data": {
      "text/html": [
       "<div>\n",
       "<style scoped>\n",
       "    .dataframe tbody tr th:only-of-type {\n",
       "        vertical-align: middle;\n",
       "    }\n",
       "\n",
       "    .dataframe tbody tr th {\n",
       "        vertical-align: top;\n",
       "    }\n",
       "\n",
       "    .dataframe thead th {\n",
       "        text-align: right;\n",
       "    }\n",
       "</style>\n",
       "<table border=\"1\" class=\"dataframe\">\n",
       "  <thead>\n",
       "    <tr style=\"text-align: right;\">\n",
       "      <th></th>\n",
       "      <th>imports</th>\n",
       "      <th>exports</th>\n",
       "      <th>digital_signature</th>\n",
       "      <th>executable_sections</th>\n",
       "    </tr>\n",
       "  </thead>\n",
       "  <tbody>\n",
       "    <tr>\n",
       "      <th>0</th>\n",
       "      <td>9</td>\n",
       "      <td>1</td>\n",
       "      <td>1</td>\n",
       "      <td>2</td>\n",
       "    </tr>\n",
       "    <tr>\n",
       "      <th>1</th>\n",
       "      <td>3</td>\n",
       "      <td>1</td>\n",
       "      <td>0</td>\n",
       "      <td>1</td>\n",
       "    </tr>\n",
       "    <tr>\n",
       "      <th>2</th>\n",
       "      <td>4</td>\n",
       "      <td>1</td>\n",
       "      <td>0</td>\n",
       "      <td>1</td>\n",
       "    </tr>\n",
       "    <tr>\n",
       "      <th>3</th>\n",
       "      <td>4</td>\n",
       "      <td>1</td>\n",
       "      <td>0</td>\n",
       "      <td>1</td>\n",
       "    </tr>\n",
       "    <tr>\n",
       "      <th>4</th>\n",
       "      <td>4</td>\n",
       "      <td>1</td>\n",
       "      <td>0</td>\n",
       "      <td>1</td>\n",
       "    </tr>\n",
       "  </tbody>\n",
       "</table>\n",
       "</div>"
      ],
      "text/plain": [
       "   imports  exports  digital_signature  executable_sections\n",
       "0        9        1                  1                    2\n",
       "1        3        1                  0                    1\n",
       "2        4        1                  0                    1\n",
       "3        4        1                  0                    1\n",
       "4        4        1                  0                    1"
      ]
     },
     "execution_count": 149,
     "metadata": {},
     "output_type": "execute_result"
    }
   ],
   "source": [
    "# Clase LabelEncoder que nos permitirá codificar.\n",
    "from sklearn.preprocessing import LabelEncoder\n",
    "\n",
    "# Columnas a codificar del dataset.\n",
    "columns_to_encode = list(data.select_dtypes(include=\"object\").columns)\n",
    "\n",
    "# Ciclo que codifica cada columna.\n",
    "for column in columns_to_encode:\n",
    "    label_encoder = LabelEncoder()\n",
    "    data[column] = label_encoder.fit_transform(data[column])\n",
    "\n",
    "# Retorno de las columnas codificadas.\n",
    "data[columns_to_encode].head()"
   ]
  },
  {
   "cell_type": "markdown",
   "metadata": {},
   "source": [
    "Finalmente nuestras columnas están en orden. Ahora podemos a proceder a dar una checada rápida con el objetivo de observar valores nulos y anomalías que no nos sirvan al momento de entrenar los modelos."
   ]
  },
  {
   "cell_type": "code",
   "execution_count": 150,
   "metadata": {},
   "outputs": [
    {
     "data": {
      "text/plain": [
       "num_sections                   1\n",
       "machine                        1\n",
       "characteristics                1\n",
       "size_of_code                   1\n",
       "size_of_initialized_data       1\n",
       "size_of_uninitialized_data     1\n",
       "address_of_entry_point         1\n",
       "image_base                     1\n",
       "major_subsystem_version        1\n",
       "subsystem                      1\n",
       "dll_characteristics            1\n",
       "checksum                       1\n",
       "imports                        0\n",
       "exports                        0\n",
       "time_date_stamp                1\n",
       "digital_signature              0\n",
       "product_version               41\n",
       "file_version                  41\n",
       "executable_sections            0\n",
       "executable_sections_length     7\n",
       "tls_virtual_address            7\n",
       "tls_size                       7\n",
       "resources_section_entries      7\n",
       "resources_section_size        28\n",
       "first_section_entropy          0\n",
       "second_section_entropy         0\n",
       "third_section_entropy          0\n",
       "dtype: int64"
      ]
     },
     "execution_count": 150,
     "metadata": {},
     "output_type": "execute_result"
    }
   ],
   "source": [
    "# Sumatoria de valores nulos.\n",
    "data.isnull().sum()"
   ]
  },
  {
   "cell_type": "markdown",
   "metadata": {},
   "source": [
    "Los valores nulos en las columnas \"product_version\" y \"file_version\" son la totalidad nulos, por lo que consideramos que lo mejor sería deshacernos completamente de estas dos columnas, lo cual es una acción que podemos realizar con la función `drop` del dataset."
   ]
  },
  {
   "cell_type": "code",
   "execution_count": 151,
   "metadata": {},
   "outputs": [
    {
     "data": {
      "text/html": [
       "<div>\n",
       "<style scoped>\n",
       "    .dataframe tbody tr th:only-of-type {\n",
       "        vertical-align: middle;\n",
       "    }\n",
       "\n",
       "    .dataframe tbody tr th {\n",
       "        vertical-align: top;\n",
       "    }\n",
       "\n",
       "    .dataframe thead th {\n",
       "        text-align: right;\n",
       "    }\n",
       "</style>\n",
       "<table border=\"1\" class=\"dataframe\">\n",
       "  <thead>\n",
       "    <tr style=\"text-align: right;\">\n",
       "      <th></th>\n",
       "      <th>num_sections</th>\n",
       "      <th>machine</th>\n",
       "      <th>characteristics</th>\n",
       "      <th>size_of_code</th>\n",
       "      <th>size_of_initialized_data</th>\n",
       "      <th>size_of_uninitialized_data</th>\n",
       "      <th>address_of_entry_point</th>\n",
       "      <th>image_base</th>\n",
       "      <th>major_subsystem_version</th>\n",
       "      <th>subsystem</th>\n",
       "      <th>...</th>\n",
       "      <th>digital_signature</th>\n",
       "      <th>executable_sections</th>\n",
       "      <th>executable_sections_length</th>\n",
       "      <th>tls_virtual_address</th>\n",
       "      <th>tls_size</th>\n",
       "      <th>resources_section_entries</th>\n",
       "      <th>resources_section_size</th>\n",
       "      <th>first_section_entropy</th>\n",
       "      <th>second_section_entropy</th>\n",
       "      <th>third_section_entropy</th>\n",
       "    </tr>\n",
       "  </thead>\n",
       "  <tbody>\n",
       "    <tr>\n",
       "      <th>0</th>\n",
       "      <td>NaN</td>\n",
       "      <td>NaN</td>\n",
       "      <td>NaN</td>\n",
       "      <td>NaN</td>\n",
       "      <td>NaN</td>\n",
       "      <td>NaN</td>\n",
       "      <td>NaN</td>\n",
       "      <td>NaN</td>\n",
       "      <td>NaN</td>\n",
       "      <td>NaN</td>\n",
       "      <td>...</td>\n",
       "      <td>1</td>\n",
       "      <td>2</td>\n",
       "      <td>NaN</td>\n",
       "      <td>NaN</td>\n",
       "      <td>NaN</td>\n",
       "      <td>NaN</td>\n",
       "      <td>NaN</td>\n",
       "      <td>0.0</td>\n",
       "      <td>0.000000</td>\n",
       "      <td>0.000000</td>\n",
       "    </tr>\n",
       "    <tr>\n",
       "      <th>1</th>\n",
       "      <td>3.0</td>\n",
       "      <td>332.0</td>\n",
       "      <td>271.0</td>\n",
       "      <td>4096.0</td>\n",
       "      <td>4096.0</td>\n",
       "      <td>20480.0</td>\n",
       "      <td>27632.0</td>\n",
       "      <td>4194304.0</td>\n",
       "      <td>4.0</td>\n",
       "      <td>2.0</td>\n",
       "      <td>...</td>\n",
       "      <td>0</td>\n",
       "      <td>1</td>\n",
       "      <td>2.0</td>\n",
       "      <td>0.0</td>\n",
       "      <td>0.0</td>\n",
       "      <td>1.0</td>\n",
       "      <td>NaN</td>\n",
       "      <td>0.0</td>\n",
       "      <td>7.565065</td>\n",
       "      <td>2.573690</td>\n",
       "    </tr>\n",
       "    <tr>\n",
       "      <th>2</th>\n",
       "      <td>3.0</td>\n",
       "      <td>332.0</td>\n",
       "      <td>271.0</td>\n",
       "      <td>4096.0</td>\n",
       "      <td>4096.0</td>\n",
       "      <td>20480.0</td>\n",
       "      <td>28048.0</td>\n",
       "      <td>4194304.0</td>\n",
       "      <td>4.0</td>\n",
       "      <td>2.0</td>\n",
       "      <td>...</td>\n",
       "      <td>0</td>\n",
       "      <td>1</td>\n",
       "      <td>2.0</td>\n",
       "      <td>0.0</td>\n",
       "      <td>0.0</td>\n",
       "      <td>1.0</td>\n",
       "      <td>NaN</td>\n",
       "      <td>0.0</td>\n",
       "      <td>7.533360</td>\n",
       "      <td>2.987652</td>\n",
       "    </tr>\n",
       "    <tr>\n",
       "      <th>3</th>\n",
       "      <td>3.0</td>\n",
       "      <td>332.0</td>\n",
       "      <td>271.0</td>\n",
       "      <td>4096.0</td>\n",
       "      <td>4096.0</td>\n",
       "      <td>20480.0</td>\n",
       "      <td>28048.0</td>\n",
       "      <td>4194304.0</td>\n",
       "      <td>4.0</td>\n",
       "      <td>2.0</td>\n",
       "      <td>...</td>\n",
       "      <td>0</td>\n",
       "      <td>1</td>\n",
       "      <td>2.0</td>\n",
       "      <td>0.0</td>\n",
       "      <td>0.0</td>\n",
       "      <td>1.0</td>\n",
       "      <td>NaN</td>\n",
       "      <td>0.0</td>\n",
       "      <td>7.531855</td>\n",
       "      <td>2.987652</td>\n",
       "    </tr>\n",
       "    <tr>\n",
       "      <th>4</th>\n",
       "      <td>3.0</td>\n",
       "      <td>332.0</td>\n",
       "      <td>271.0</td>\n",
       "      <td>4096.0</td>\n",
       "      <td>4096.0</td>\n",
       "      <td>20480.0</td>\n",
       "      <td>28064.0</td>\n",
       "      <td>4194304.0</td>\n",
       "      <td>4.0</td>\n",
       "      <td>2.0</td>\n",
       "      <td>...</td>\n",
       "      <td>0</td>\n",
       "      <td>1</td>\n",
       "      <td>2.0</td>\n",
       "      <td>0.0</td>\n",
       "      <td>0.0</td>\n",
       "      <td>1.0</td>\n",
       "      <td>NaN</td>\n",
       "      <td>0.0</td>\n",
       "      <td>7.536877</td>\n",
       "      <td>2.987652</td>\n",
       "    </tr>\n",
       "  </tbody>\n",
       "</table>\n",
       "<p>5 rows × 25 columns</p>\n",
       "</div>"
      ],
      "text/plain": [
       "   num_sections  machine  characteristics  size_of_code  \\\n",
       "0           NaN      NaN              NaN           NaN   \n",
       "1           3.0    332.0            271.0        4096.0   \n",
       "2           3.0    332.0            271.0        4096.0   \n",
       "3           3.0    332.0            271.0        4096.0   \n",
       "4           3.0    332.0            271.0        4096.0   \n",
       "\n",
       "   size_of_initialized_data  size_of_uninitialized_data  \\\n",
       "0                       NaN                         NaN   \n",
       "1                    4096.0                     20480.0   \n",
       "2                    4096.0                     20480.0   \n",
       "3                    4096.0                     20480.0   \n",
       "4                    4096.0                     20480.0   \n",
       "\n",
       "   address_of_entry_point  image_base  major_subsystem_version  subsystem  \\\n",
       "0                     NaN         NaN                      NaN        NaN   \n",
       "1                 27632.0   4194304.0                      4.0        2.0   \n",
       "2                 28048.0   4194304.0                      4.0        2.0   \n",
       "3                 28048.0   4194304.0                      4.0        2.0   \n",
       "4                 28064.0   4194304.0                      4.0        2.0   \n",
       "\n",
       "   ...  digital_signature  executable_sections  executable_sections_length  \\\n",
       "0  ...                  1                    2                         NaN   \n",
       "1  ...                  0                    1                         2.0   \n",
       "2  ...                  0                    1                         2.0   \n",
       "3  ...                  0                    1                         2.0   \n",
       "4  ...                  0                    1                         2.0   \n",
       "\n",
       "   tls_virtual_address  tls_size  resources_section_entries  \\\n",
       "0                  NaN       NaN                        NaN   \n",
       "1                  0.0       0.0                        1.0   \n",
       "2                  0.0       0.0                        1.0   \n",
       "3                  0.0       0.0                        1.0   \n",
       "4                  0.0       0.0                        1.0   \n",
       "\n",
       "   resources_section_size  first_section_entropy  second_section_entropy  \\\n",
       "0                     NaN                    0.0                0.000000   \n",
       "1                     NaN                    0.0                7.565065   \n",
       "2                     NaN                    0.0                7.533360   \n",
       "3                     NaN                    0.0                7.531855   \n",
       "4                     NaN                    0.0                7.536877   \n",
       "\n",
       "   third_section_entropy  \n",
       "0               0.000000  \n",
       "1               2.573690  \n",
       "2               2.987652  \n",
       "3               2.987652  \n",
       "4               2.987652  \n",
       "\n",
       "[5 rows x 25 columns]"
      ]
     },
     "execution_count": 151,
     "metadata": {},
     "output_type": "execute_result"
    }
   ],
   "source": [
    "# Eliminación y retorno del dataset.\n",
    "data = data.drop([\"product_version\", \"file_version\"], axis=1)\n",
    "data.head()"
   ]
  },
  {
   "cell_type": "markdown",
   "metadata": {},
   "source": [
    "Otra columna que nos gustaría observar es \"num_sections\", por lo que se observarán los valores nulos ubicados en la misma con el objetivo de analizar su comportamiento y poder reemplazar estas celdas sin información valiosa por algo que sí lo sea."
   ]
  },
  {
   "cell_type": "code",
   "execution_count": 152,
   "metadata": {},
   "outputs": [
    {
     "data": {
      "text/plain": [
       "array([nan,  3.,  4.])"
      ]
     },
     "execution_count": 152,
     "metadata": {},
     "output_type": "execute_result"
    }
   ],
   "source": [
    "# Valores únicos en la columna.\n",
    "data[\"num_sections\"].unique()"
   ]
  },
  {
   "cell_type": "markdown",
   "metadata": {},
   "source": [
    "Los valores nulos serán rellenados con un cero. Esto lo podemos aplicar con la función `fillna`, indicando el valor con el que queremos rellenar todos los valores nulos que se encuentren en el dataset."
   ]
  },
  {
   "cell_type": "code",
   "execution_count": 153,
   "metadata": {},
   "outputs": [
    {
     "data": {
      "text/html": [
       "<div>\n",
       "<style scoped>\n",
       "    .dataframe tbody tr th:only-of-type {\n",
       "        vertical-align: middle;\n",
       "    }\n",
       "\n",
       "    .dataframe tbody tr th {\n",
       "        vertical-align: top;\n",
       "    }\n",
       "\n",
       "    .dataframe thead th {\n",
       "        text-align: right;\n",
       "    }\n",
       "</style>\n",
       "<table border=\"1\" class=\"dataframe\">\n",
       "  <thead>\n",
       "    <tr style=\"text-align: right;\">\n",
       "      <th></th>\n",
       "      <th>num_sections</th>\n",
       "      <th>machine</th>\n",
       "      <th>characteristics</th>\n",
       "      <th>size_of_code</th>\n",
       "      <th>size_of_initialized_data</th>\n",
       "      <th>size_of_uninitialized_data</th>\n",
       "      <th>address_of_entry_point</th>\n",
       "      <th>image_base</th>\n",
       "      <th>major_subsystem_version</th>\n",
       "      <th>subsystem</th>\n",
       "      <th>...</th>\n",
       "      <th>digital_signature</th>\n",
       "      <th>executable_sections</th>\n",
       "      <th>executable_sections_length</th>\n",
       "      <th>tls_virtual_address</th>\n",
       "      <th>tls_size</th>\n",
       "      <th>resources_section_entries</th>\n",
       "      <th>resources_section_size</th>\n",
       "      <th>first_section_entropy</th>\n",
       "      <th>second_section_entropy</th>\n",
       "      <th>third_section_entropy</th>\n",
       "    </tr>\n",
       "  </thead>\n",
       "  <tbody>\n",
       "    <tr>\n",
       "      <th>0</th>\n",
       "      <td>0.0</td>\n",
       "      <td>0.0</td>\n",
       "      <td>0.0</td>\n",
       "      <td>0.0</td>\n",
       "      <td>0.0</td>\n",
       "      <td>0.0</td>\n",
       "      <td>0.0</td>\n",
       "      <td>0.0</td>\n",
       "      <td>0.0</td>\n",
       "      <td>0.0</td>\n",
       "      <td>...</td>\n",
       "      <td>1</td>\n",
       "      <td>2</td>\n",
       "      <td>0.0</td>\n",
       "      <td>0.0</td>\n",
       "      <td>0.0</td>\n",
       "      <td>0.0</td>\n",
       "      <td>0.0</td>\n",
       "      <td>0.0</td>\n",
       "      <td>0.000000</td>\n",
       "      <td>0.000000</td>\n",
       "    </tr>\n",
       "    <tr>\n",
       "      <th>1</th>\n",
       "      <td>3.0</td>\n",
       "      <td>332.0</td>\n",
       "      <td>271.0</td>\n",
       "      <td>4096.0</td>\n",
       "      <td>4096.0</td>\n",
       "      <td>20480.0</td>\n",
       "      <td>27632.0</td>\n",
       "      <td>4194304.0</td>\n",
       "      <td>4.0</td>\n",
       "      <td>2.0</td>\n",
       "      <td>...</td>\n",
       "      <td>0</td>\n",
       "      <td>1</td>\n",
       "      <td>2.0</td>\n",
       "      <td>0.0</td>\n",
       "      <td>0.0</td>\n",
       "      <td>1.0</td>\n",
       "      <td>0.0</td>\n",
       "      <td>0.0</td>\n",
       "      <td>7.565065</td>\n",
       "      <td>2.573690</td>\n",
       "    </tr>\n",
       "    <tr>\n",
       "      <th>2</th>\n",
       "      <td>3.0</td>\n",
       "      <td>332.0</td>\n",
       "      <td>271.0</td>\n",
       "      <td>4096.0</td>\n",
       "      <td>4096.0</td>\n",
       "      <td>20480.0</td>\n",
       "      <td>28048.0</td>\n",
       "      <td>4194304.0</td>\n",
       "      <td>4.0</td>\n",
       "      <td>2.0</td>\n",
       "      <td>...</td>\n",
       "      <td>0</td>\n",
       "      <td>1</td>\n",
       "      <td>2.0</td>\n",
       "      <td>0.0</td>\n",
       "      <td>0.0</td>\n",
       "      <td>1.0</td>\n",
       "      <td>0.0</td>\n",
       "      <td>0.0</td>\n",
       "      <td>7.533360</td>\n",
       "      <td>2.987652</td>\n",
       "    </tr>\n",
       "    <tr>\n",
       "      <th>3</th>\n",
       "      <td>3.0</td>\n",
       "      <td>332.0</td>\n",
       "      <td>271.0</td>\n",
       "      <td>4096.0</td>\n",
       "      <td>4096.0</td>\n",
       "      <td>20480.0</td>\n",
       "      <td>28048.0</td>\n",
       "      <td>4194304.0</td>\n",
       "      <td>4.0</td>\n",
       "      <td>2.0</td>\n",
       "      <td>...</td>\n",
       "      <td>0</td>\n",
       "      <td>1</td>\n",
       "      <td>2.0</td>\n",
       "      <td>0.0</td>\n",
       "      <td>0.0</td>\n",
       "      <td>1.0</td>\n",
       "      <td>0.0</td>\n",
       "      <td>0.0</td>\n",
       "      <td>7.531855</td>\n",
       "      <td>2.987652</td>\n",
       "    </tr>\n",
       "    <tr>\n",
       "      <th>4</th>\n",
       "      <td>3.0</td>\n",
       "      <td>332.0</td>\n",
       "      <td>271.0</td>\n",
       "      <td>4096.0</td>\n",
       "      <td>4096.0</td>\n",
       "      <td>20480.0</td>\n",
       "      <td>28064.0</td>\n",
       "      <td>4194304.0</td>\n",
       "      <td>4.0</td>\n",
       "      <td>2.0</td>\n",
       "      <td>...</td>\n",
       "      <td>0</td>\n",
       "      <td>1</td>\n",
       "      <td>2.0</td>\n",
       "      <td>0.0</td>\n",
       "      <td>0.0</td>\n",
       "      <td>1.0</td>\n",
       "      <td>0.0</td>\n",
       "      <td>0.0</td>\n",
       "      <td>7.536877</td>\n",
       "      <td>2.987652</td>\n",
       "    </tr>\n",
       "  </tbody>\n",
       "</table>\n",
       "<p>5 rows × 25 columns</p>\n",
       "</div>"
      ],
      "text/plain": [
       "   num_sections  machine  characteristics  size_of_code  \\\n",
       "0           0.0      0.0              0.0           0.0   \n",
       "1           3.0    332.0            271.0        4096.0   \n",
       "2           3.0    332.0            271.0        4096.0   \n",
       "3           3.0    332.0            271.0        4096.0   \n",
       "4           3.0    332.0            271.0        4096.0   \n",
       "\n",
       "   size_of_initialized_data  size_of_uninitialized_data  \\\n",
       "0                       0.0                         0.0   \n",
       "1                    4096.0                     20480.0   \n",
       "2                    4096.0                     20480.0   \n",
       "3                    4096.0                     20480.0   \n",
       "4                    4096.0                     20480.0   \n",
       "\n",
       "   address_of_entry_point  image_base  major_subsystem_version  subsystem  \\\n",
       "0                     0.0         0.0                      0.0        0.0   \n",
       "1                 27632.0   4194304.0                      4.0        2.0   \n",
       "2                 28048.0   4194304.0                      4.0        2.0   \n",
       "3                 28048.0   4194304.0                      4.0        2.0   \n",
       "4                 28064.0   4194304.0                      4.0        2.0   \n",
       "\n",
       "   ...  digital_signature  executable_sections  executable_sections_length  \\\n",
       "0  ...                  1                    2                         0.0   \n",
       "1  ...                  0                    1                         2.0   \n",
       "2  ...                  0                    1                         2.0   \n",
       "3  ...                  0                    1                         2.0   \n",
       "4  ...                  0                    1                         2.0   \n",
       "\n",
       "   tls_virtual_address  tls_size  resources_section_entries  \\\n",
       "0                  0.0       0.0                        0.0   \n",
       "1                  0.0       0.0                        1.0   \n",
       "2                  0.0       0.0                        1.0   \n",
       "3                  0.0       0.0                        1.0   \n",
       "4                  0.0       0.0                        1.0   \n",
       "\n",
       "   resources_section_size  first_section_entropy  second_section_entropy  \\\n",
       "0                     0.0                    0.0                0.000000   \n",
       "1                     0.0                    0.0                7.565065   \n",
       "2                     0.0                    0.0                7.533360   \n",
       "3                     0.0                    0.0                7.531855   \n",
       "4                     0.0                    0.0                7.536877   \n",
       "\n",
       "   third_section_entropy  \n",
       "0               0.000000  \n",
       "1               2.573690  \n",
       "2               2.987652  \n",
       "3               2.987652  \n",
       "4               2.987652  \n",
       "\n",
       "[5 rows x 25 columns]"
      ]
     },
     "execution_count": 153,
     "metadata": {},
     "output_type": "execute_result"
    }
   ],
   "source": [
    "# Relleno de valores nulos.\n",
    "data.fillna(0, inplace=True)\n",
    "data.head()"
   ]
  },
  {
   "cell_type": "code",
   "execution_count": 154,
   "metadata": {},
   "outputs": [
    {
     "name": "stdout",
     "output_type": "stream",
     "text": [
      "<class 'pandas.core.frame.DataFrame'>\n",
      "RangeIndex: 41 entries, 0 to 40\n",
      "Data columns (total 25 columns):\n",
      " #   Column                      Non-Null Count  Dtype  \n",
      "---  ------                      --------------  -----  \n",
      " 0   num_sections                41 non-null     float64\n",
      " 1   machine                     41 non-null     float64\n",
      " 2   characteristics             41 non-null     float64\n",
      " 3   size_of_code                41 non-null     float64\n",
      " 4   size_of_initialized_data    41 non-null     float64\n",
      " 5   size_of_uninitialized_data  41 non-null     float64\n",
      " 6   address_of_entry_point      41 non-null     float64\n",
      " 7   image_base                  41 non-null     float64\n",
      " 8   major_subsystem_version     41 non-null     float64\n",
      " 9   subsystem                   41 non-null     float64\n",
      " 10  dll_characteristics         41 non-null     float64\n",
      " 11  checksum                    41 non-null     float64\n",
      " 12  imports                     41 non-null     int32  \n",
      " 13  exports                     41 non-null     int32  \n",
      " 14  time_date_stamp             41 non-null     float64\n",
      " 15  digital_signature           41 non-null     int32  \n",
      " 16  executable_sections         41 non-null     int32  \n",
      " 17  executable_sections_length  41 non-null     float64\n",
      " 18  tls_virtual_address         41 non-null     float64\n",
      " 19  tls_size                    41 non-null     float64\n",
      " 20  resources_section_entries   41 non-null     float64\n",
      " 21  resources_section_size      41 non-null     float64\n",
      " 22  first_section_entropy       41 non-null     float64\n",
      " 23  second_section_entropy      41 non-null     float64\n",
      " 24  third_section_entropy       41 non-null     float64\n",
      "dtypes: float64(21), int32(4)\n",
      "memory usage: 7.5 KB\n"
     ]
    }
   ],
   "source": [
    "# Nueva información del dataset limpio.\n",
    "data.info()\n"
   ]
  },
  {
   "cell_type": "markdown",
   "metadata": {},
   "source": [
    "Podemos observar cómo todas las columnas se encuentran limpias y en formato numérico, que finalmente podremos utilizar con el objetivo de entrenar el modelo. Podemos verificar que las columnas sean del tipo que necesitamos con la función `select_dtypes`, para observar qué columnas son de cada tipo."
   ]
  },
  {
   "cell_type": "code",
   "execution_count": 155,
   "metadata": {},
   "outputs": [
    {
     "data": {
      "text/plain": [
       "Index(['num_sections', 'machine', 'characteristics', 'size_of_code',\n",
       "       'size_of_initialized_data', 'size_of_uninitialized_data',\n",
       "       'address_of_entry_point', 'image_base', 'major_subsystem_version',\n",
       "       'subsystem', 'dll_characteristics', 'checksum', 'time_date_stamp',\n",
       "       'executable_sections_length', 'tls_virtual_address', 'tls_size',\n",
       "       'resources_section_entries', 'resources_section_size',\n",
       "       'first_section_entropy', 'second_section_entropy',\n",
       "       'third_section_entropy'],\n",
       "      dtype='object')"
      ]
     },
     "execution_count": 155,
     "metadata": {},
     "output_type": "execute_result"
    }
   ],
   "source": [
    "# Columnas de tipo float64.\n",
    "data.select_dtypes(include=\"float64\").columns"
   ]
  },
  {
   "cell_type": "code",
   "execution_count": 156,
   "metadata": {},
   "outputs": [
    {
     "data": {
      "text/plain": [
       "Index(['imports', 'exports', 'digital_signature', 'executable_sections'], dtype='object')"
      ]
     },
     "execution_count": 156,
     "metadata": {},
     "output_type": "execute_result"
    }
   ],
   "source": [
    "# Columnas de tipo int32.\n",
    "data.select_dtypes(include=\"int32\").columns"
   ]
  },
  {
   "cell_type": "code",
   "execution_count": 157,
   "metadata": {},
   "outputs": [
    {
     "data": {
      "text/plain": [
       "Index([], dtype='object')"
      ]
     },
     "execution_count": 157,
     "metadata": {},
     "output_type": "execute_result"
    }
   ],
   "source": [
    "# Columnas de tipo object (no debería haber ninguna).\n",
    "data.select_dtypes(include=\"object\").columns"
   ]
  },
  {
   "cell_type": "code",
   "execution_count": 158,
   "metadata": {},
   "outputs": [],
   "source": [
    "from sklearn.cluster import KMeans\n",
    "\n",
    "# Suponiendo que \"data\" es tu DataFrame limpio\n",
    "\n",
    "# Especifica el número de clusters que deseas\n",
    "num_clusters = 3\n",
    "\n",
    "# Inicializa el modelo K-Means\n",
    "kmeans_model = KMeans(n_clusters=num_clusters)\n",
    "\n",
    "# Entrena el modelo con tus datos\n",
    "kmeans_model.fit(data)\n",
    "\n",
    "# Obtiene las etiquetas de cluster asignadas a cada fila en tu dataset\n",
    "cluster_labels = kmeans_model.labels_\n",
    "\n",
    "# Si deseas obtener los centroides de los clusters\n",
    "centroids = kmeans_model.cluster_centers_"
   ]
  },
  {
   "cell_type": "code",
   "execution_count": 159,
   "metadata": {},
   "outputs": [
    {
     "data": {
      "text/plain": [
       "array([[ 3.00000000e+00,  3.32000000e+02,  1.55084375e+03,\n",
       "         8.52480000e+04,  4.09600000e+03,  3.07712000e+05,\n",
       "         3.95712000e+05,  4.54819840e+07,  4.00000000e+00,\n",
       "         2.00000000e+00,  0.00000000e+00,  0.00000000e+00,\n",
       "         4.34375000e+00,  8.43750000e-01,  1.26077926e+09,\n",
       "        -1.04083409e-17,  1.15625000e+00,  1.68750000e+00,\n",
       "         0.00000000e+00,  0.00000000e+00,  6.56250000e-01,\n",
       "         0.00000000e+00, -4.44089210e-16,  6.43403496e+00,\n",
       "         2.42580771e+00],\n",
       "       [ 3.12500000e+00,  3.32000000e+02,  2.71000000e+02,\n",
       "         9.72800000e+03,  4.01068800e+06,  0.00000000e+00,\n",
       "         3.42261758e+09,  4.19430400e+06,  4.00000000e+00,\n",
       "         2.00000000e+00,  0.00000000e+00,  0.00000000e+00,\n",
       "         1.25000000e-01,  1.00000000e+00,  1.29927981e+09,\n",
       "         3.46944695e-18,  2.50000000e-01,  8.75000000e-01,\n",
       "         0.00000000e+00,  0.00000000e+00,  0.00000000e+00,\n",
       "         0.00000000e+00,  5.46168775e+00,  3.63164119e+00,\n",
       "         3.60542421e+00],\n",
       "       [ 0.00000000e+00,  0.00000000e+00,  0.00000000e+00,\n",
       "         0.00000000e+00,  0.00000000e+00,  0.00000000e+00,\n",
       "         0.00000000e+00,  0.00000000e+00,  0.00000000e+00,\n",
       "         0.00000000e+00,  0.00000000e+00,  0.00000000e+00,\n",
       "         9.00000000e+00,  1.00000000e+00,  0.00000000e+00,\n",
       "         1.00000000e+00,  2.00000000e+00,  0.00000000e+00,\n",
       "         0.00000000e+00,  0.00000000e+00,  0.00000000e+00,\n",
       "         0.00000000e+00,  0.00000000e+00,  0.00000000e+00,\n",
       "         0.00000000e+00]])"
      ]
     },
     "execution_count": 159,
     "metadata": {},
     "output_type": "execute_result"
    }
   ],
   "source": [
    "centroids"
   ]
  },
  {
   "cell_type": "code",
   "execution_count": 160,
   "metadata": {},
   "outputs": [
    {
     "data": {
      "text/html": [
       "<div>\n",
       "<style scoped>\n",
       "    .dataframe tbody tr th:only-of-type {\n",
       "        vertical-align: middle;\n",
       "    }\n",
       "\n",
       "    .dataframe tbody tr th {\n",
       "        vertical-align: top;\n",
       "    }\n",
       "\n",
       "    .dataframe thead th {\n",
       "        text-align: right;\n",
       "    }\n",
       "</style>\n",
       "<table border=\"1\" class=\"dataframe\">\n",
       "  <thead>\n",
       "    <tr style=\"text-align: right;\">\n",
       "      <th></th>\n",
       "      <th>num_sections</th>\n",
       "      <th>machine</th>\n",
       "      <th>characteristics</th>\n",
       "      <th>size_of_code</th>\n",
       "      <th>size_of_initialized_data</th>\n",
       "      <th>size_of_uninitialized_data</th>\n",
       "      <th>address_of_entry_point</th>\n",
       "      <th>image_base</th>\n",
       "      <th>major_subsystem_version</th>\n",
       "      <th>subsystem</th>\n",
       "      <th>...</th>\n",
       "      <th>digital_signature</th>\n",
       "      <th>executable_sections</th>\n",
       "      <th>executable_sections_length</th>\n",
       "      <th>tls_virtual_address</th>\n",
       "      <th>tls_size</th>\n",
       "      <th>resources_section_entries</th>\n",
       "      <th>resources_section_size</th>\n",
       "      <th>first_section_entropy</th>\n",
       "      <th>second_section_entropy</th>\n",
       "      <th>third_section_entropy</th>\n",
       "    </tr>\n",
       "  </thead>\n",
       "  <tbody>\n",
       "    <tr>\n",
       "      <th>0</th>\n",
       "      <td>0.0</td>\n",
       "      <td>0.0</td>\n",
       "      <td>0.0</td>\n",
       "      <td>0.0</td>\n",
       "      <td>0.0</td>\n",
       "      <td>0.0</td>\n",
       "      <td>0.0</td>\n",
       "      <td>0.0</td>\n",
       "      <td>0.0</td>\n",
       "      <td>0.0</td>\n",
       "      <td>...</td>\n",
       "      <td>1</td>\n",
       "      <td>2</td>\n",
       "      <td>0.0</td>\n",
       "      <td>0.0</td>\n",
       "      <td>0.0</td>\n",
       "      <td>0.0</td>\n",
       "      <td>0.0</td>\n",
       "      <td>0.0</td>\n",
       "      <td>0.000000</td>\n",
       "      <td>0.000000</td>\n",
       "    </tr>\n",
       "    <tr>\n",
       "      <th>1</th>\n",
       "      <td>3.0</td>\n",
       "      <td>332.0</td>\n",
       "      <td>271.0</td>\n",
       "      <td>4096.0</td>\n",
       "      <td>4096.0</td>\n",
       "      <td>20480.0</td>\n",
       "      <td>27632.0</td>\n",
       "      <td>4194304.0</td>\n",
       "      <td>4.0</td>\n",
       "      <td>2.0</td>\n",
       "      <td>...</td>\n",
       "      <td>0</td>\n",
       "      <td>1</td>\n",
       "      <td>2.0</td>\n",
       "      <td>0.0</td>\n",
       "      <td>0.0</td>\n",
       "      <td>1.0</td>\n",
       "      <td>0.0</td>\n",
       "      <td>0.0</td>\n",
       "      <td>7.565065</td>\n",
       "      <td>2.573690</td>\n",
       "    </tr>\n",
       "    <tr>\n",
       "      <th>2</th>\n",
       "      <td>3.0</td>\n",
       "      <td>332.0</td>\n",
       "      <td>271.0</td>\n",
       "      <td>4096.0</td>\n",
       "      <td>4096.0</td>\n",
       "      <td>20480.0</td>\n",
       "      <td>28048.0</td>\n",
       "      <td>4194304.0</td>\n",
       "      <td>4.0</td>\n",
       "      <td>2.0</td>\n",
       "      <td>...</td>\n",
       "      <td>0</td>\n",
       "      <td>1</td>\n",
       "      <td>2.0</td>\n",
       "      <td>0.0</td>\n",
       "      <td>0.0</td>\n",
       "      <td>1.0</td>\n",
       "      <td>0.0</td>\n",
       "      <td>0.0</td>\n",
       "      <td>7.533360</td>\n",
       "      <td>2.987652</td>\n",
       "    </tr>\n",
       "    <tr>\n",
       "      <th>3</th>\n",
       "      <td>3.0</td>\n",
       "      <td>332.0</td>\n",
       "      <td>271.0</td>\n",
       "      <td>4096.0</td>\n",
       "      <td>4096.0</td>\n",
       "      <td>20480.0</td>\n",
       "      <td>28048.0</td>\n",
       "      <td>4194304.0</td>\n",
       "      <td>4.0</td>\n",
       "      <td>2.0</td>\n",
       "      <td>...</td>\n",
       "      <td>0</td>\n",
       "      <td>1</td>\n",
       "      <td>2.0</td>\n",
       "      <td>0.0</td>\n",
       "      <td>0.0</td>\n",
       "      <td>1.0</td>\n",
       "      <td>0.0</td>\n",
       "      <td>0.0</td>\n",
       "      <td>7.531855</td>\n",
       "      <td>2.987652</td>\n",
       "    </tr>\n",
       "    <tr>\n",
       "      <th>4</th>\n",
       "      <td>3.0</td>\n",
       "      <td>332.0</td>\n",
       "      <td>271.0</td>\n",
       "      <td>4096.0</td>\n",
       "      <td>4096.0</td>\n",
       "      <td>20480.0</td>\n",
       "      <td>28064.0</td>\n",
       "      <td>4194304.0</td>\n",
       "      <td>4.0</td>\n",
       "      <td>2.0</td>\n",
       "      <td>...</td>\n",
       "      <td>0</td>\n",
       "      <td>1</td>\n",
       "      <td>2.0</td>\n",
       "      <td>0.0</td>\n",
       "      <td>0.0</td>\n",
       "      <td>1.0</td>\n",
       "      <td>0.0</td>\n",
       "      <td>0.0</td>\n",
       "      <td>7.536877</td>\n",
       "      <td>2.987652</td>\n",
       "    </tr>\n",
       "  </tbody>\n",
       "</table>\n",
       "<p>5 rows × 25 columns</p>\n",
       "</div>"
      ],
      "text/plain": [
       "   num_sections  machine  characteristics  size_of_code  \\\n",
       "0           0.0      0.0              0.0           0.0   \n",
       "1           3.0    332.0            271.0        4096.0   \n",
       "2           3.0    332.0            271.0        4096.0   \n",
       "3           3.0    332.0            271.0        4096.0   \n",
       "4           3.0    332.0            271.0        4096.0   \n",
       "\n",
       "   size_of_initialized_data  size_of_uninitialized_data  \\\n",
       "0                       0.0                         0.0   \n",
       "1                    4096.0                     20480.0   \n",
       "2                    4096.0                     20480.0   \n",
       "3                    4096.0                     20480.0   \n",
       "4                    4096.0                     20480.0   \n",
       "\n",
       "   address_of_entry_point  image_base  major_subsystem_version  subsystem  \\\n",
       "0                     0.0         0.0                      0.0        0.0   \n",
       "1                 27632.0   4194304.0                      4.0        2.0   \n",
       "2                 28048.0   4194304.0                      4.0        2.0   \n",
       "3                 28048.0   4194304.0                      4.0        2.0   \n",
       "4                 28064.0   4194304.0                      4.0        2.0   \n",
       "\n",
       "   ...  digital_signature  executable_sections  executable_sections_length  \\\n",
       "0  ...                  1                    2                         0.0   \n",
       "1  ...                  0                    1                         2.0   \n",
       "2  ...                  0                    1                         2.0   \n",
       "3  ...                  0                    1                         2.0   \n",
       "4  ...                  0                    1                         2.0   \n",
       "\n",
       "   tls_virtual_address  tls_size  resources_section_entries  \\\n",
       "0                  0.0       0.0                        0.0   \n",
       "1                  0.0       0.0                        1.0   \n",
       "2                  0.0       0.0                        1.0   \n",
       "3                  0.0       0.0                        1.0   \n",
       "4                  0.0       0.0                        1.0   \n",
       "\n",
       "   resources_section_size  first_section_entropy  second_section_entropy  \\\n",
       "0                     0.0                    0.0                0.000000   \n",
       "1                     0.0                    0.0                7.565065   \n",
       "2                     0.0                    0.0                7.533360   \n",
       "3                     0.0                    0.0                7.531855   \n",
       "4                     0.0                    0.0                7.536877   \n",
       "\n",
       "   third_section_entropy  \n",
       "0               0.000000  \n",
       "1               2.573690  \n",
       "2               2.987652  \n",
       "3               2.987652  \n",
       "4               2.987652  \n",
       "\n",
       "[5 rows x 25 columns]"
      ]
     },
     "execution_count": 160,
     "metadata": {},
     "output_type": "execute_result"
    }
   ],
   "source": [
    "data.head()"
   ]
  },
  {
   "cell_type": "code",
   "execution_count": 161,
   "metadata": {},
   "outputs": [
    {
     "data": {
      "image/png": "[encoded data removed]",
      "text/plain": [
       "<Figure size 640x480 with 1 Axes>"
      ]
     },
     "metadata": {},
     "output_type": "display_data"
    }
   ],
   "source": [
    "import matplotlib.pyplot as plt\n",
    "from sklearn.cluster import KMeans\n",
    "from sklearn.metrics import silhouette_score\n",
    "\n",
    "# Lista para almacenar los valores de la silueta\n",
    "silhouette_scores = []\n",
    "\n",
    "# Probamos un número de clusters de 2 a 10\n",
    "for i in range(2, 21):\n",
    "    kmeans = KMeans(n_clusters=i, random_state=42)\n",
    "    cluster_labels = kmeans.fit_predict(data)\n",
    "    silhouette_avg = silhouette_score(data, cluster_labels)\n",
    "    silhouette_scores.append(silhouette_avg)\n",
    "\n",
    "# Graficamos el score de la silueta para determinar el mejor número de clusters\n",
    "plt.plot(range(2, 21), silhouette_scores, marker=\"o\")\n",
    "plt.title(\"Método de la Silueta\")\n",
    "plt.xlabel(\"Número de Clusters\")\n",
    "plt.ylabel(\"Puntaje de Silueta\")\n",
    "plt.show()\n"
   ]
  },
  {
   "cell_type": "code",
   "execution_count": 162,
   "metadata": {},
   "outputs": [
    {
     "data": {
      "text/plain": [
       "(0.9600888307825167, 0)"
      ]
     },
     "execution_count": 162,
     "metadata": {},
     "output_type": "execute_result"
    }
   ],
   "source": [
    "max(silhouette_scores), silhouette_scores.index(max(silhouette_scores))"
   ]
  },
  {
   "cell_type": "markdown",
   "metadata": {},
   "source": [
    "# Agrupamiento Jerárquico Aglomerativo\n",
    "Agrupamiento Jerárquico Aglomerativo realiza un agrupamiento basado en la distancia entre los puntos de datos y los agrupa de manera jerárquica"
   ]
  },
  {
   "cell_type": "code",
   "execution_count": 163,
   "metadata": {},
   "outputs": [
    {
     "data": {
      "image/png": "[encoded data removed]",
      "text/plain": [
       "<Figure size 640x480 with 1 Axes>"
      ]
     },
     "metadata": {},
     "output_type": "display_data"
    },
    {
     "name": "stdout",
     "output_type": "stream",
     "text": [
      "El valor máximo del coeficiente de silueta es 0.9600888307825167\n",
      "El número óptimo de clusters es 2\n"
     ]
    }
   ],
   "source": [
    "from sklearn.cluster import AgglomerativeClustering\n",
    "from sklearn.metrics import silhouette_score\n",
    "\n",
    "# Lista para almacenar los valores de la silueta\n",
    "silhouette_scores_agg = []\n",
    "\n",
    "# Probamos un número de clusters de 2 a 10\n",
    "for i in range(2, 21):\n",
    "    agg_clustering = AgglomerativeClustering(n_clusters=i)\n",
    "    cluster_labels_agg = agg_clustering.fit_predict(data)\n",
    "    silhouette_avg_agg = silhouette_score(data, cluster_labels_agg)\n",
    "    silhouette_scores_agg.append(silhouette_avg_agg)\n",
    "\n",
    "# Graficamos el score de la silueta para determinar el mejor número de clusters\n",
    "plt.plot(range(2, 21), silhouette_scores_agg, marker=\"o\")\n",
    "plt.title(\"Método de la Silueta para Agglomerative Clustering\")\n",
    "plt.xlabel(\"Número de Clusters\")\n",
    "plt.ylabel(\"Puntaje de Silueta\")\n",
    "plt.show()\n",
    "\n",
    "# Calcula el valor máximo del coeficiente de silueta y el número óptimo de clusters\n",
    "max_silhouette_score_agg = max(silhouette_scores_agg)\n",
    "optimal_clusters_agg = silhouette_scores_agg.index(max(silhouette_scores_agg)) + 2\n",
    "print(f\"El valor máximo del coeficiente de silueta es {max_silhouette_score_agg}\")\n",
    "print(f\"El número óptimo de clusters es {optimal_clusters_agg}\")\n",
    "\n",
    "# Entrenamos el modelo con el número óptimo de clusters\n",
    "agg_clustering_optimal = AgglomerativeClustering(n_clusters=optimal_clusters_agg)\n",
    "agg_clustering_optimal.fit(data)\n",
    "\n",
    "# Obtenemos las etiquetas de los clusters\n",
    "cluster_labels_agg_optimal = agg_clustering_optimal.labels_\n",
    "\n",
    "# Añadimos las etiquetas al dataframe\n",
    "data['Agglomerative_Cluster_Labels'] = cluster_labels_agg_optimal\n"
   ]
  },
  {
   "cell_type": "markdown",
   "metadata": {},
   "source": [
    "El coeficiente de silueta que calculé es una medida de cuán similar es un objeto a su propio clúster (cohesión) en comparación con otros clústeres (separación). El coeficiente de silueta oscila entre -1 y 1. Un valor alto indica que el objeto está bien emparejado con su propio clúster y mal emparejado con los clústeres vecinos. Si la mayoría de los objetos tienen un valor alto, entonces la configuración del clúster es apropiada. Si muchos puntos tienen un valor bajo o negativo, entonces la configuración del clúster puede tener demasiados o muy pocos clústeres.\n",
    "\n",
    "En este caso, el valor máximo del coeficiente de silueta que obtuve es 0.9600888307825167, lo cual es muy cercano a 1. Esto indica que los objetos están bien emparejados con su propio clúster y mal emparejados con los clústeres vecinos, lo cual es deseable en un buen agrupamiento.\n",
    "\n",
    "El número óptimo de clústeres es el número de clústeres que maximiza el coeficiente de silueta. En este caso, el número óptimo de clústeres que encontré es 2. Esto significa que, según el coeficiente de silueta, los datos se agrupan de manera óptima en dos clústeres.\n",
    "\n",
    "Después de determinar el número óptimo de clústeres, entrené el modelo de Agrupamiento Jerárquico Aglomerativo con este número de clústeres y asigné las etiquetas de los clústeres a tu dataframe. Esto significa que cada observación en tu dataset ha sido etiquetada con el clúster al que pertenece, según lo indicado por el algoritmo de Agrupamiento Jerárquico Aglomerativo.\n",
    "\n"
   ]
  },
  {
   "cell_type": "markdown",
   "metadata": {},
   "source": [
    "# Análisis de similitud"
   ]
  },
  {
   "cell_type": "code",
   "execution_count": 164,
   "metadata": {},
   "outputs": [],
   "source": [
    "import numpy as np"
   ]
  },
  {
   "cell_type": "code",
   "execution_count": 165,
   "metadata": {},
   "outputs": [],
   "source": [
    "def jaccard_similarity(list1, list2):\n",
    "    intersection = len(list(set(list1).intersection(list2)))\n",
    "    union = (len(list1) + len(list2)) - intersection\n",
    "    # Añade una condición para manejar el caso en que ambas listas están vacías\n",
    "    if union == 0:\n",
    "        return 1  # o cualquier valor que consideres apropiado en este caso\n",
    "    else:\n",
    "        return float(intersection) / union\n"
   ]
  },
  {
   "cell_type": "code",
   "execution_count": 166,
   "metadata": {},
   "outputs": [
    {
     "data": {
      "text/html": [
       "<div>\n",
       "<style scoped>\n",
       "    .dataframe tbody tr th:only-of-type {\n",
       "        vertical-align: middle;\n",
       "    }\n",
       "\n",
       "    .dataframe tbody tr th {\n",
       "        vertical-align: top;\n",
       "    }\n",
       "\n",
       "    .dataframe thead th {\n",
       "        text-align: right;\n",
       "    }\n",
       "</style>\n",
       "<table border=\"1\" class=\"dataframe\">\n",
       "  <thead>\n",
       "    <tr style=\"text-align: right;\">\n",
       "      <th></th>\n",
       "      <th>num_sections</th>\n",
       "      <th>machine</th>\n",
       "      <th>characteristics</th>\n",
       "      <th>size_of_code</th>\n",
       "      <th>size_of_initialized_data</th>\n",
       "      <th>size_of_uninitialized_data</th>\n",
       "      <th>address_of_entry_point</th>\n",
       "      <th>image_base</th>\n",
       "      <th>major_subsystem_version</th>\n",
       "      <th>subsystem</th>\n",
       "      <th>...</th>\n",
       "      <th>file_version</th>\n",
       "      <th>executable_sections</th>\n",
       "      <th>executable_sections_length</th>\n",
       "      <th>tls_virtual_address</th>\n",
       "      <th>tls_size</th>\n",
       "      <th>resources_section_entries</th>\n",
       "      <th>resources_section_size</th>\n",
       "      <th>first_section_entropy</th>\n",
       "      <th>second_section_entropy</th>\n",
       "      <th>third_section_entropy</th>\n",
       "    </tr>\n",
       "  </thead>\n",
       "  <tbody>\n",
       "    <tr>\n",
       "      <th>0</th>\n",
       "      <td>NaN</td>\n",
       "      <td>NaN</td>\n",
       "      <td>NaN</td>\n",
       "      <td>NaN</td>\n",
       "      <td>NaN</td>\n",
       "      <td>NaN</td>\n",
       "      <td>NaN</td>\n",
       "      <td>NaN</td>\n",
       "      <td>NaN</td>\n",
       "      <td>NaN</td>\n",
       "      <td>...</td>\n",
       "      <td>NaN</td>\n",
       "      <td>NaN</td>\n",
       "      <td>NaN</td>\n",
       "      <td>NaN</td>\n",
       "      <td>NaN</td>\n",
       "      <td>NaN</td>\n",
       "      <td>NaN</td>\n",
       "      <td>0.0</td>\n",
       "      <td>0.000000</td>\n",
       "      <td>0.000000</td>\n",
       "    </tr>\n",
       "    <tr>\n",
       "      <th>1</th>\n",
       "      <td>3.0</td>\n",
       "      <td>332.0</td>\n",
       "      <td>271.0</td>\n",
       "      <td>4096.0</td>\n",
       "      <td>4096.0</td>\n",
       "      <td>20480.0</td>\n",
       "      <td>27632.0</td>\n",
       "      <td>4194304.0</td>\n",
       "      <td>4.0</td>\n",
       "      <td>2.0</td>\n",
       "      <td>...</td>\n",
       "      <td>NaN</td>\n",
       "      <td>[True, True, False]</td>\n",
       "      <td>2.0</td>\n",
       "      <td>0.0</td>\n",
       "      <td>0.0</td>\n",
       "      <td>1.0</td>\n",
       "      <td>NaN</td>\n",
       "      <td>0.0</td>\n",
       "      <td>7.565065</td>\n",
       "      <td>2.573690</td>\n",
       "    </tr>\n",
       "    <tr>\n",
       "      <th>2</th>\n",
       "      <td>3.0</td>\n",
       "      <td>332.0</td>\n",
       "      <td>271.0</td>\n",
       "      <td>4096.0</td>\n",
       "      <td>4096.0</td>\n",
       "      <td>20480.0</td>\n",
       "      <td>28048.0</td>\n",
       "      <td>4194304.0</td>\n",
       "      <td>4.0</td>\n",
       "      <td>2.0</td>\n",
       "      <td>...</td>\n",
       "      <td>NaN</td>\n",
       "      <td>[True, True, False]</td>\n",
       "      <td>2.0</td>\n",
       "      <td>0.0</td>\n",
       "      <td>0.0</td>\n",
       "      <td>1.0</td>\n",
       "      <td>NaN</td>\n",
       "      <td>0.0</td>\n",
       "      <td>7.533360</td>\n",
       "      <td>2.987652</td>\n",
       "    </tr>\n",
       "    <tr>\n",
       "      <th>3</th>\n",
       "      <td>3.0</td>\n",
       "      <td>332.0</td>\n",
       "      <td>271.0</td>\n",
       "      <td>4096.0</td>\n",
       "      <td>4096.0</td>\n",
       "      <td>20480.0</td>\n",
       "      <td>28048.0</td>\n",
       "      <td>4194304.0</td>\n",
       "      <td>4.0</td>\n",
       "      <td>2.0</td>\n",
       "      <td>...</td>\n",
       "      <td>NaN</td>\n",
       "      <td>[True, True, False]</td>\n",
       "      <td>2.0</td>\n",
       "      <td>0.0</td>\n",
       "      <td>0.0</td>\n",
       "      <td>1.0</td>\n",
       "      <td>NaN</td>\n",
       "      <td>0.0</td>\n",
       "      <td>7.531855</td>\n",
       "      <td>2.987652</td>\n",
       "    </tr>\n",
       "    <tr>\n",
       "      <th>4</th>\n",
       "      <td>3.0</td>\n",
       "      <td>332.0</td>\n",
       "      <td>271.0</td>\n",
       "      <td>4096.0</td>\n",
       "      <td>4096.0</td>\n",
       "      <td>20480.0</td>\n",
       "      <td>28064.0</td>\n",
       "      <td>4194304.0</td>\n",
       "      <td>4.0</td>\n",
       "      <td>2.0</td>\n",
       "      <td>...</td>\n",
       "      <td>NaN</td>\n",
       "      <td>[True, True, False]</td>\n",
       "      <td>2.0</td>\n",
       "      <td>0.0</td>\n",
       "      <td>0.0</td>\n",
       "      <td>1.0</td>\n",
       "      <td>NaN</td>\n",
       "      <td>0.0</td>\n",
       "      <td>7.536877</td>\n",
       "      <td>2.987652</td>\n",
       "    </tr>\n",
       "  </tbody>\n",
       "</table>\n",
       "<p>5 rows × 27 columns</p>\n",
       "</div>"
      ],
      "text/plain": [
       "   num_sections  machine  characteristics  size_of_code  \\\n",
       "0           NaN      NaN              NaN           NaN   \n",
       "1           3.0    332.0            271.0        4096.0   \n",
       "2           3.0    332.0            271.0        4096.0   \n",
       "3           3.0    332.0            271.0        4096.0   \n",
       "4           3.0    332.0            271.0        4096.0   \n",
       "\n",
       "   size_of_initialized_data  size_of_uninitialized_data  \\\n",
       "0                       NaN                         NaN   \n",
       "1                    4096.0                     20480.0   \n",
       "2                    4096.0                     20480.0   \n",
       "3                    4096.0                     20480.0   \n",
       "4                    4096.0                     20480.0   \n",
       "\n",
       "   address_of_entry_point  image_base  major_subsystem_version  subsystem  \\\n",
       "0                     NaN         NaN                      NaN        NaN   \n",
       "1                 27632.0   4194304.0                      4.0        2.0   \n",
       "2                 28048.0   4194304.0                      4.0        2.0   \n",
       "3                 28048.0   4194304.0                      4.0        2.0   \n",
       "4                 28064.0   4194304.0                      4.0        2.0   \n",
       "\n",
       "   ...  file_version  executable_sections executable_sections_length  \\\n",
       "0  ...           NaN                  NaN                        NaN   \n",
       "1  ...           NaN  [True, True, False]                        2.0   \n",
       "2  ...           NaN  [True, True, False]                        2.0   \n",
       "3  ...           NaN  [True, True, False]                        2.0   \n",
       "4  ...           NaN  [True, True, False]                        2.0   \n",
       "\n",
       "  tls_virtual_address  tls_size resources_section_entries  \\\n",
       "0                 NaN       NaN                       NaN   \n",
       "1                 0.0       0.0                       1.0   \n",
       "2                 0.0       0.0                       1.0   \n",
       "3                 0.0       0.0                       1.0   \n",
       "4                 0.0       0.0                       1.0   \n",
       "\n",
       "   resources_section_size  first_section_entropy second_section_entropy  \\\n",
       "0                     NaN                    0.0               0.000000   \n",
       "1                     NaN                    0.0               7.565065   \n",
       "2                     NaN                    0.0               7.533360   \n",
       "3                     NaN                    0.0               7.531855   \n",
       "4                     NaN                    0.0               7.536877   \n",
       "\n",
       "   third_section_entropy  \n",
       "0               0.000000  \n",
       "1               2.573690  \n",
       "2               2.987652  \n",
       "3               2.987652  \n",
       "4               2.987652  \n",
       "\n",
       "[5 rows x 27 columns]"
      ]
     },
     "execution_count": 166,
     "metadata": {},
     "output_type": "execute_result"
    }
   ],
   "source": [
    "dd.head()"
   ]
  },
  {
   "cell_type": "markdown",
   "metadata": {},
   "source": [
    "A continuacion vamos a ver cuales de estas columnas contienen alguna fila para el uso de jaccard"
   ]
  },
  {
   "cell_type": "code",
   "execution_count": 167,
   "metadata": {},
   "outputs": [
    {
     "name": "stdout",
     "output_type": "stream",
     "text": [
      "Las columnas que contienen listas son: []\n"
     ]
    }
   ],
   "source": [
    "# Encuentra todas las columnas que contienen listas\n",
    "list_columns = [col for col in dd.columns if dd[col].apply(type).eq(list).any()]\n",
    "\n",
    "# Imprime las columnas que contienen listas\n",
    "print(\"Las columnas que contienen listas son:\", list_columns)\n"
   ]
  },
  {
   "cell_type": "code",
   "execution_count": 168,
   "metadata": {},
   "outputs": [],
   "source": [
    "dd['imports'] = dd['imports'].replace(np.nan, '[]')\n",
    "dd['exports'] = dd['exports'].replace(np.nan, '[]')\n",
    "\n",
    "# Asegúrate de que tus datos estén en el formato correcto\n",
    "dd['imports'] = dd['imports'].apply(lambda x: literal_eval(x) if isinstance(x, str) else x)\n",
    "dd['exports'] = dd['exports'].apply(lambda x: literal_eval(x) if isinstance(x, str) else x)\n",
    "\n",
    "# Calcula la similitud de Jaccard para cada fila\n",
    "dd['jaccard_similarity'] = dd.apply(lambda row: jaccard_similarity(row['imports'], row['exports']), axis=1)\n"
   ]
  },
  {
   "cell_type": "code",
   "execution_count": 169,
   "metadata": {},
   "outputs": [
    {
     "data": {
      "image/png": "[encoded data removed]",
      "text/plain": [
       "<Figure size 640x480 with 1 Axes>"
      ]
     },
     "metadata": {},
     "output_type": "display_data"
    }
   ],
   "source": [
    "import matplotlib.pyplot as plt\n",
    "\n",
    "# Crea un histograma de las similitudes de Jaccard\n",
    "plt.hist(dd['jaccard_similarity'], bins=20, alpha=0.5)\n",
    "plt.title('Histograma de Similitud de Jaccard')\n",
    "plt.xlabel('Similitud de Jaccard')\n",
    "plt.ylabel('Frecuencia')\n",
    "plt.show()\n"
   ]
  },
  {
   "cell_type": "code",
   "execution_count": 170,
   "metadata": {},
   "outputs": [
    {
     "name": "stdout",
     "output_type": "stream",
     "text": [
      "La similitud de Jaccard entre las funciones importadas y exportadas para la fila 0 es 1.0\n",
      "La similitud de Jaccard entre las funciones importadas y exportadas para la fila 1 es 0.0\n",
      "La similitud de Jaccard entre las funciones importadas y exportadas para la fila 2 es 0.0\n",
      "La similitud de Jaccard entre las funciones importadas y exportadas para la fila 3 es 0.0\n",
      "La similitud de Jaccard entre las funciones importadas y exportadas para la fila 4 es 0.0\n",
      "La similitud de Jaccard entre las funciones importadas y exportadas para la fila 5 es 0.0\n",
      "La similitud de Jaccard entre las funciones importadas y exportadas para la fila 6 es 0.0\n",
      "La similitud de Jaccard entre las funciones importadas y exportadas para la fila 7 es 0.0\n",
      "La similitud de Jaccard entre las funciones importadas y exportadas para la fila 8 es 0.0\n",
      "La similitud de Jaccard entre las funciones importadas y exportadas para la fila 9 es 0.0\n",
      "La similitud de Jaccard entre las funciones importadas y exportadas para la fila 10 es 0.0\n",
      "La similitud de Jaccard entre las funciones importadas y exportadas para la fila 11 es 0.0\n",
      "La similitud de Jaccard entre las funciones importadas y exportadas para la fila 12 es 0.0\n",
      "La similitud de Jaccard entre las funciones importadas y exportadas para la fila 13 es 0.0\n",
      "La similitud de Jaccard entre las funciones importadas y exportadas para la fila 14 es 0.0\n",
      "La similitud de Jaccard entre las funciones importadas y exportadas para la fila 15 es 0.0\n",
      "La similitud de Jaccard entre las funciones importadas y exportadas para la fila 16 es 0.0\n",
      "La similitud de Jaccard entre las funciones importadas y exportadas para la fila 17 es 0.0\n",
      "La similitud de Jaccard entre las funciones importadas y exportadas para la fila 18 es 0.0\n",
      "La similitud de Jaccard entre las funciones importadas y exportadas para la fila 19 es 0.0\n",
      "La similitud de Jaccard entre las funciones importadas y exportadas para la fila 20 es 0.0\n",
      "La similitud de Jaccard entre las funciones importadas y exportadas para la fila 21 es 0.0\n",
      "La similitud de Jaccard entre las funciones importadas y exportadas para la fila 22 es 0.0\n",
      "La similitud de Jaccard entre las funciones importadas y exportadas para la fila 23 es 0.0\n",
      "La similitud de Jaccard entre las funciones importadas y exportadas para la fila 24 es 0.0\n",
      "La similitud de Jaccard entre las funciones importadas y exportadas para la fila 25 es 0.0\n",
      "La similitud de Jaccard entre las funciones importadas y exportadas para la fila 26 es 0.0\n",
      "La similitud de Jaccard entre las funciones importadas y exportadas para la fila 27 es 0.0\n",
      "La similitud de Jaccard entre las funciones importadas y exportadas para la fila 28 es 0.0\n",
      "La similitud de Jaccard entre las funciones importadas y exportadas para la fila 29 es 0.0\n",
      "La similitud de Jaccard entre las funciones importadas y exportadas para la fila 30 es 0.0\n",
      "La similitud de Jaccard entre las funciones importadas y exportadas para la fila 31 es 0.0\n",
      "La similitud de Jaccard entre las funciones importadas y exportadas para la fila 32 es 0.0\n",
      "La similitud de Jaccard entre las funciones importadas y exportadas para la fila 33 es 0.0\n",
      "La similitud de Jaccard entre las funciones importadas y exportadas para la fila 34 es 0.0\n",
      "La similitud de Jaccard entre las funciones importadas y exportadas para la fila 35 es 0.0\n",
      "La similitud de Jaccard entre las funciones importadas y exportadas para la fila 36 es 0.0\n",
      "La similitud de Jaccard entre las funciones importadas y exportadas para la fila 37 es 0.0\n",
      "La similitud de Jaccard entre las funciones importadas y exportadas para la fila 38 es 0.0\n",
      "La similitud de Jaccard entre las funciones importadas y exportadas para la fila 39 es 0.0\n",
      "La similitud de Jaccard entre las funciones importadas y exportadas para la fila 40 es 0.0\n"
     ]
    }
   ],
   "source": [
    "# Imprime la similitud de Jaccard para cada fila\n",
    "for i, row in dd.iterrows():\n",
    "    print(f\"La similitud de Jaccard entre las funciones importadas y exportadas para la fila {i} es {row['jaccard_similarity']}\")\n"
   ]
  },
  {
   "cell_type": "markdown",
   "metadata": {},
   "source": [
    "En el análisis realizado, calculé la similitud de Jaccard entre las funciones importadas y exportadas para cada fila de los datos. El índice de Jaccard es una medida de similitud que se define como el tamaño de la intersección dividido por el tamaño de la unión de dos conjuntos. Los valores del índice de Jaccard varían entre 0 y 1, donde 0 indica que los conjuntos no tienen elementos en común y 1 indica que los conjuntos son idénticos.\n",
    "\n",
    "En mis resultados, encontré que para la primera fila de los datos, la similitud de Jaccard entre las funciones importadas y exportadas es 1.0. Esto significa que todas las funciones importadas también son exportadas y viceversa para esta fila de datos.\n",
    "\n",
    "Por otro lado, para las filas 1 a 40, la similitud de Jaccard es 0.0. Esto indica que no hay funciones que sean tanto importadas como exportadas para estas filas de datos.\n",
    "\n",
    "Estos resultados proporcionan una visión valiosa de la similitud entre las funciones importadas y exportadas en los datos, lo cual puede ser útil para entender mejor las características de los datos y para informar decisiones futuras.\n"
   ]
  },
  {
   "cell_type": "code",
   "execution_count": null,
   "metadata": {},
   "outputs": [],
   "source": [
    "dd.to_csv(\"dd.csv\",index=False)"
   ]
  },
  {
   "cell_type": "code",
   "execution_count": 171,
   "metadata": {},
   "outputs": [
    {
     "name": "stdout",
     "output_type": "stream",
     "text": [
      "Para la fila 0, con un umbral de 0.3, las funciones importadas y exportadas son Similar\n",
      "Para la fila 0, con un umbral de 0.5, las funciones importadas y exportadas son Similar\n",
      "Para la fila 0, con un umbral de 0.7, las funciones importadas y exportadas son Similar\n",
      "Para la fila 1, con un umbral de 0.3, las funciones importadas y exportadas son No similar\n",
      "Para la fila 1, con un umbral de 0.5, las funciones importadas y exportadas son No similar\n",
      "Para la fila 1, con un umbral de 0.7, las funciones importadas y exportadas son No similar\n",
      "Para la fila 2, con un umbral de 0.3, las funciones importadas y exportadas son No similar\n",
      "Para la fila 2, con un umbral de 0.5, las funciones importadas y exportadas son No similar\n",
      "Para la fila 2, con un umbral de 0.7, las funciones importadas y exportadas son No similar\n",
      "Para la fila 3, con un umbral de 0.3, las funciones importadas y exportadas son No similar\n",
      "Para la fila 3, con un umbral de 0.5, las funciones importadas y exportadas son No similar\n",
      "Para la fila 3, con un umbral de 0.7, las funciones importadas y exportadas son No similar\n",
      "Para la fila 4, con un umbral de 0.3, las funciones importadas y exportadas son No similar\n",
      "Para la fila 4, con un umbral de 0.5, las funciones importadas y exportadas son No similar\n",
      "Para la fila 4, con un umbral de 0.7, las funciones importadas y exportadas son No similar\n",
      "Para la fila 5, con un umbral de 0.3, las funciones importadas y exportadas son No similar\n",
      "Para la fila 5, con un umbral de 0.5, las funciones importadas y exportadas son No similar\n",
      "Para la fila 5, con un umbral de 0.7, las funciones importadas y exportadas son No similar\n",
      "Para la fila 6, con un umbral de 0.3, las funciones importadas y exportadas son No similar\n",
      "Para la fila 6, con un umbral de 0.5, las funciones importadas y exportadas son No similar\n",
      "Para la fila 6, con un umbral de 0.7, las funciones importadas y exportadas son No similar\n",
      "Para la fila 7, con un umbral de 0.3, las funciones importadas y exportadas son No similar\n",
      "Para la fila 7, con un umbral de 0.5, las funciones importadas y exportadas son No similar\n",
      "Para la fila 7, con un umbral de 0.7, las funciones importadas y exportadas son No similar\n",
      "Para la fila 8, con un umbral de 0.3, las funciones importadas y exportadas son No similar\n",
      "Para la fila 8, con un umbral de 0.5, las funciones importadas y exportadas son No similar\n",
      "Para la fila 8, con un umbral de 0.7, las funciones importadas y exportadas son No similar\n",
      "Para la fila 9, con un umbral de 0.3, las funciones importadas y exportadas son No similar\n",
      "Para la fila 9, con un umbral de 0.5, las funciones importadas y exportadas son No similar\n",
      "Para la fila 9, con un umbral de 0.7, las funciones importadas y exportadas son No similar\n",
      "Para la fila 10, con un umbral de 0.3, las funciones importadas y exportadas son No similar\n",
      "Para la fila 10, con un umbral de 0.5, las funciones importadas y exportadas son No similar\n",
      "Para la fila 10, con un umbral de 0.7, las funciones importadas y exportadas son No similar\n",
      "Para la fila 11, con un umbral de 0.3, las funciones importadas y exportadas son No similar\n",
      "Para la fila 11, con un umbral de 0.5, las funciones importadas y exportadas son No similar\n",
      "Para la fila 11, con un umbral de 0.7, las funciones importadas y exportadas son No similar\n",
      "Para la fila 12, con un umbral de 0.3, las funciones importadas y exportadas son No similar\n",
      "Para la fila 12, con un umbral de 0.5, las funciones importadas y exportadas son No similar\n",
      "Para la fila 12, con un umbral de 0.7, las funciones importadas y exportadas son No similar\n",
      "Para la fila 13, con un umbral de 0.3, las funciones importadas y exportadas son No similar\n",
      "Para la fila 13, con un umbral de 0.5, las funciones importadas y exportadas son No similar\n",
      "Para la fila 13, con un umbral de 0.7, las funciones importadas y exportadas son No similar\n",
      "Para la fila 14, con un umbral de 0.3, las funciones importadas y exportadas son No similar\n",
      "Para la fila 14, con un umbral de 0.5, las funciones importadas y exportadas son No similar\n",
      "Para la fila 14, con un umbral de 0.7, las funciones importadas y exportadas son No similar\n",
      "Para la fila 15, con un umbral de 0.3, las funciones importadas y exportadas son No similar\n",
      "Para la fila 15, con un umbral de 0.5, las funciones importadas y exportadas son No similar\n",
      "Para la fila 15, con un umbral de 0.7, las funciones importadas y exportadas son No similar\n",
      "Para la fila 16, con un umbral de 0.3, las funciones importadas y exportadas son No similar\n",
      "Para la fila 16, con un umbral de 0.5, las funciones importadas y exportadas son No similar\n",
      "Para la fila 16, con un umbral de 0.7, las funciones importadas y exportadas son No similar\n",
      "Para la fila 17, con un umbral de 0.3, las funciones importadas y exportadas son No similar\n",
      "Para la fila 17, con un umbral de 0.5, las funciones importadas y exportadas son No similar\n",
      "Para la fila 17, con un umbral de 0.7, las funciones importadas y exportadas son No similar\n",
      "Para la fila 18, con un umbral de 0.3, las funciones importadas y exportadas son No similar\n",
      "Para la fila 18, con un umbral de 0.5, las funciones importadas y exportadas son No similar\n",
      "Para la fila 18, con un umbral de 0.7, las funciones importadas y exportadas son No similar\n",
      "Para la fila 19, con un umbral de 0.3, las funciones importadas y exportadas son No similar\n",
      "Para la fila 19, con un umbral de 0.5, las funciones importadas y exportadas son No similar\n",
      "Para la fila 19, con un umbral de 0.7, las funciones importadas y exportadas son No similar\n",
      "Para la fila 20, con un umbral de 0.3, las funciones importadas y exportadas son No similar\n",
      "Para la fila 20, con un umbral de 0.5, las funciones importadas y exportadas son No similar\n",
      "Para la fila 20, con un umbral de 0.7, las funciones importadas y exportadas son No similar\n",
      "Para la fila 21, con un umbral de 0.3, las funciones importadas y exportadas son No similar\n",
      "Para la fila 21, con un umbral de 0.5, las funciones importadas y exportadas son No similar\n",
      "Para la fila 21, con un umbral de 0.7, las funciones importadas y exportadas son No similar\n",
      "Para la fila 22, con un umbral de 0.3, las funciones importadas y exportadas son No similar\n",
      "Para la fila 22, con un umbral de 0.5, las funciones importadas y exportadas son No similar\n",
      "Para la fila 22, con un umbral de 0.7, las funciones importadas y exportadas son No similar\n",
      "Para la fila 23, con un umbral de 0.3, las funciones importadas y exportadas son No similar\n",
      "Para la fila 23, con un umbral de 0.5, las funciones importadas y exportadas son No similar\n",
      "Para la fila 23, con un umbral de 0.7, las funciones importadas y exportadas son No similar\n",
      "Para la fila 24, con un umbral de 0.3, las funciones importadas y exportadas son No similar\n",
      "Para la fila 24, con un umbral de 0.5, las funciones importadas y exportadas son No similar\n",
      "Para la fila 24, con un umbral de 0.7, las funciones importadas y exportadas son No similar\n",
      "Para la fila 25, con un umbral de 0.3, las funciones importadas y exportadas son No similar\n",
      "Para la fila 25, con un umbral de 0.5, las funciones importadas y exportadas son No similar\n",
      "Para la fila 25, con un umbral de 0.7, las funciones importadas y exportadas son No similar\n",
      "Para la fila 26, con un umbral de 0.3, las funciones importadas y exportadas son No similar\n",
      "Para la fila 26, con un umbral de 0.5, las funciones importadas y exportadas son No similar\n",
      "Para la fila 26, con un umbral de 0.7, las funciones importadas y exportadas son No similar\n",
      "Para la fila 27, con un umbral de 0.3, las funciones importadas y exportadas son No similar\n",
      "Para la fila 27, con un umbral de 0.5, las funciones importadas y exportadas son No similar\n",
      "Para la fila 27, con un umbral de 0.7, las funciones importadas y exportadas son No similar\n",
      "Para la fila 28, con un umbral de 0.3, las funciones importadas y exportadas son No similar\n",
      "Para la fila 28, con un umbral de 0.5, las funciones importadas y exportadas son No similar\n",
      "Para la fila 28, con un umbral de 0.7, las funciones importadas y exportadas son No similar\n",
      "Para la fila 29, con un umbral de 0.3, las funciones importadas y exportadas son No similar\n",
      "Para la fila 29, con un umbral de 0.5, las funciones importadas y exportadas son No similar\n",
      "Para la fila 29, con un umbral de 0.7, las funciones importadas y exportadas son No similar\n",
      "Para la fila 30, con un umbral de 0.3, las funciones importadas y exportadas son No similar\n",
      "Para la fila 30, con un umbral de 0.5, las funciones importadas y exportadas son No similar\n",
      "Para la fila 30, con un umbral de 0.7, las funciones importadas y exportadas son No similar\n",
      "Para la fila 31, con un umbral de 0.3, las funciones importadas y exportadas son No similar\n",
      "Para la fila 31, con un umbral de 0.5, las funciones importadas y exportadas son No similar\n",
      "Para la fila 31, con un umbral de 0.7, las funciones importadas y exportadas son No similar\n",
      "Para la fila 32, con un umbral de 0.3, las funciones importadas y exportadas son No similar\n",
      "Para la fila 32, con un umbral de 0.5, las funciones importadas y exportadas son No similar\n",
      "Para la fila 32, con un umbral de 0.7, las funciones importadas y exportadas son No similar\n",
      "Para la fila 33, con un umbral de 0.3, las funciones importadas y exportadas son No similar\n",
      "Para la fila 33, con un umbral de 0.5, las funciones importadas y exportadas son No similar\n",
      "Para la fila 33, con un umbral de 0.7, las funciones importadas y exportadas son No similar\n",
      "Para la fila 34, con un umbral de 0.3, las funciones importadas y exportadas son No similar\n",
      "Para la fila 34, con un umbral de 0.5, las funciones importadas y exportadas son No similar\n",
      "Para la fila 34, con un umbral de 0.7, las funciones importadas y exportadas son No similar\n",
      "Para la fila 35, con un umbral de 0.3, las funciones importadas y exportadas son No similar\n",
      "Para la fila 35, con un umbral de 0.5, las funciones importadas y exportadas son No similar\n",
      "Para la fila 35, con un umbral de 0.7, las funciones importadas y exportadas son No similar\n",
      "Para la fila 36, con un umbral de 0.3, las funciones importadas y exportadas son No similar\n",
      "Para la fila 36, con un umbral de 0.5, las funciones importadas y exportadas son No similar\n",
      "Para la fila 36, con un umbral de 0.7, las funciones importadas y exportadas son No similar\n",
      "Para la fila 37, con un umbral de 0.3, las funciones importadas y exportadas son No similar\n",
      "Para la fila 37, con un umbral de 0.5, las funciones importadas y exportadas son No similar\n",
      "Para la fila 37, con un umbral de 0.7, las funciones importadas y exportadas son No similar\n",
      "Para la fila 38, con un umbral de 0.3, las funciones importadas y exportadas son No similar\n",
      "Para la fila 38, con un umbral de 0.5, las funciones importadas y exportadas son No similar\n",
      "Para la fila 38, con un umbral de 0.7, las funciones importadas y exportadas son No similar\n",
      "Para la fila 39, con un umbral de 0.3, las funciones importadas y exportadas son No similar\n",
      "Para la fila 39, con un umbral de 0.5, las funciones importadas y exportadas son No similar\n",
      "Para la fila 39, con un umbral de 0.7, las funciones importadas y exportadas son No similar\n",
      "Para la fila 40, con un umbral de 0.3, las funciones importadas y exportadas son No similar\n",
      "Para la fila 40, con un umbral de 0.5, las funciones importadas y exportadas son No similar\n",
      "Para la fila 40, con un umbral de 0.7, las funciones importadas y exportadas son No similar\n"
     ]
    }
   ],
   "source": [
    "# Aplica los umbrales a la columna de similitud de Jaccard\n",
    "dd['similarity_0.3'] = dd['jaccard_similarity'].apply(lambda x: 'Similar' if x > 0.3 else 'No similar')\n",
    "dd['similarity_0.5'] = dd['jaccard_similarity'].apply(lambda x: 'Similar' if x > 0.5 else 'No similar')\n",
    "dd['similarity_0.7'] = dd['jaccard_similarity'].apply(lambda x: 'Similar' if x > 0.7 else 'No similar')\n",
    "\n",
    "# Imprime los resultados\n",
    "for i, row in dd.iterrows():\n",
    "    print(f\"Para la fila {i}, con un umbral de 0.3, las funciones importadas y exportadas son {row['similarity_0.3']}\")\n",
    "    print(f\"Para la fila {i}, con un umbral de 0.5, las funciones importadas y exportadas son {row['similarity_0.5']}\")\n",
    "    print(f\"Para la fila {i}, con un umbral de 0.7, las funciones importadas y exportadas son {row['similarity_0.7']}\")\n"
   ]
  },
  {
   "cell_type": "markdown",
   "metadata": {},
   "source": [
    "En el análisis que realicé, apliqué diferentes umbrales a la similitud de Jaccard entre las funciones importadas y exportadas para cada fila de los datos. Los umbrales utilizados fueron 0.3, 0.5 y 0.7. Para cada umbral, clasifiqué las similitudes en dos categorías: ‘Similar’ si la similitud de Jaccard era mayor que el umbral, y ‘No similar’ en caso contrario.\n",
    "\n",
    "En mis resultados, encontré que para la primera fila de los datos, las funciones importadas y exportadas se clasificaron como ‘Similar’ para todos los umbrales. Esto significa que la similitud de Jaccard entre las funciones importadas y exportadas para esta fila es mayor que todos los umbrales.\n",
    "\n",
    "Por otro lado, para las filas 1 a 40, las funciones importadas y exportadas se clasificaron como ‘No similar’ para todos los umbrales. Esto indica que la similitud de Jaccard entre las funciones importadas y exportadas para estas filas es menor que todos los umbrales.\n",
    "\n",
    "Estos resultados proporcionan una visión valiosa de la similitud entre las funciones importadas y exportadas en los datos, lo cual puede ser útil para entender mejor las características de los datos y para informar decisiones futuras."
   ]
  },
  {
   "cell_type": "markdown",
   "metadata": {},
   "source": [
    "# Conclusiones\n",
    "1. Para ambos algoritmos, ¿para qué número de clústeres se obtiene el coeficiente de Silhouette más alto?\n",
    "\n",
    "Para ambos algoritmos, el coeficiente de Silhouette más alto se obtuvo para 2 clústeres, seguido del segundo coeficiente más alto que fue para 10.\n",
    "\n",
    "2. Para ambos algoritmos, ¿En que medida coincide el coeficiente de Silhouette con el método del codo?\n",
    "\n",
    "El coeficiente de Silhouette y el método del codo coinciden en gran medida para el algoritmo K-means, donde ambos sugieren que el número óptimo de clústeres está entre 2 y 10. Sin embargo, para el Agrupamiento Jerárquico Aglomerativo, el coeficiente de Silhouette fue más alto para 2 clústeres, mientras que el método del codo indicó que el número óptimo podría estar entre 2 y 5 clústeres.\n",
    "\n",
    "3. Según los resultados obtenidos de ambos algoritmos ¿Cuántas familias cree que existen entre los ejemplares de malware proporcionados?\n",
    "\n",
    "Según los resultados obtenidos de ambos algoritmos, parece que existen entre 2 y 10 familias de malware entre los ejemplares proporcionados. Aunque el número exacto de familias no puede determinarse con certeza debido a la ambigüedad en los resultados de los algoritmos de agrupamiento, se puede concluir que hay una variabilidad significativa en las características estáticas de los malware que sugiere la presencia de múltiples familias.\n",
    "\n",
    "4. ¿En qué medida coincide el análisis de similitud con las familias encontradas utilizando los algoritmos de partición, para ambas características (strings, llamadas a las funciones)?\n",
    "\n",
    "El análisis de similitud con las características de strings y llamadas a funciones coincide en gran medida con las familias encontradas utilizando los algoritmos de partición. Se observa una agrupación similar de observaciones en ambos casos, lo que sugiere que las características estáticas utilizadas en el análisis de similitud son consistentes con las familias identificadas por los algoritmos de partición. Esto respalda la validez de las familias identificadas y la efectividad de las características utilizadas en el análisis estático de malware."
   ]
  }
 ],
 "metadata": {
  "kernelspec": {
   "display_name": "Python 3",
   "language": "python",
   "name": "python3"
  },
  "language_info": {
   "codemirror_mode": {
    "name": "ipython",
    "version": 3
   },
   "file_extension": ".py",
   "mimetype": "text/x-python",
   "name": "python",
   "nbconvert_exporter": "python",
   "pygments_lexer": "ipython3",
   "version": "3.9.12"
  }
 },
 "nbformat": 4,
 "nbformat_minor": 2
}
