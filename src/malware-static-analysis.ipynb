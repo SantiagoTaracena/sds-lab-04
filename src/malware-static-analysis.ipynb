{
 "cells": [
  {
   "cell_type": "markdown",
   "metadata": {},
   "source": [
    "# Universidad del Valle de Guatemala\n",
    "# (CC3092) Security Data Science\n",
    "# Laboratorio 4 - Análisis de Malware\n",
    "\n",
    "Miembros del equipo de trabajo:\n",
    "- Yongbum Park (20117)\n",
    "- Santiago Taracena Puga (20017)"
   ]
  },
  {
   "cell_type": "markdown",
   "metadata": {},
   "source": [
    "## Parte 1"
   ]
  },
  {
   "cell_type": "markdown",
   "metadata": {},
   "source": [
    "### Creación del dataset"
   ]
  },
  {
   "cell_type": "markdown",
   "metadata": {},
   "source": [
    "Para llevar a cabo la creación del dataset, se procedió con un análisis estático de los archivos de malware proporcionados utilizando la herramienta pefile. Esta herramienta permitió examinar en profundidad los archivos ejecutables y extraer información relevante, como el PE header, el nombre de las secciones y las llamadas a funciones realizadas.\n",
    "\n",
    "Durante el análisis, se observó que los archivos de malware presentaban una variedad de características y comportamientos, lo que subraya la importancia de un enfoque detallado y exhaustivo en la extracción de características. Se identificaron diferentes familias de malware entre los ejemplos proporcionados, lo que respalda la necesidad de una clasificación precisa para desarrollar respuestas y controles adecuados.\n",
    "\n",
    "Posteriormente, se procedió con la exploración y el preprocesamiento de los datos obtenidos del análisis estático. Se identificaron columnas que requerían técnicas de preprocesamiento para garantizar la calidad y la manipulación adecuada de la información. Entre las técnicas de preprocesamiento aplicadas se incluyeron la normalización de datos, el manejo de valores faltantes y la codificación de variables categóricas, con el fin de optimizar la preparación de los datos para su posterior análisis mediante algoritmos de aprendizaje no supervisado.\n",
    "\n",
    "En conclusión, la etapa de creación del dataset proporcionó una base sólida para el análisis y la clasificación de familias de malware. El análisis estático de los archivos de malware, junto con el preprocesamiento adecuado de los datos, constituyen pasos fundamentales para avanzar hacia la implementación de algoritmos de clasificación y la determinación de similitudes entre las familias de malware identificadas."
   ]
  },
  {
   "cell_type": "markdown",
   "metadata": {},
   "source": [
    "La primera acción que resulta necesaria al momento de comenzar con la creación del dataset a utilizar durante el laboratorio consiste en el proceso de importar las librerías necesarias para abrir el malware en Python y analizarlo correctamente. Las librerías que necesitamos en este caso en particular son `os`, `hashlib`, `pefile` y `pandas` para guardar el dataset en el formato .csv que necesitamos."
   ]
  },
  {
   "cell_type": "code",
   "execution_count": 1,
   "metadata": {},
   "outputs": [],
   "source": [
    "# Librerías necesarias para armar el dataset.\n",
    "import os\n",
    "import hashlib\n",
    "import pefile\n",
    "import pandas as pd"
   ]
  },
  {
   "cell_type": "markdown",
   "metadata": {},
   "source": [
    "Con las librerías necesarias disponibles para su utilización, necesitamos conseguir los hashes de cada archivo para poder utilizarlos con el objetivo de identificar cada malware del cual se están extrayendo características dentro del dataset. Para esto hemos desarrollado una función `get_file_hashes`, que obtiene los hashes utilizando la librería `hashlib` y los retorna para poder colocarlos como datos de columnas dentro de nuestro dataset."
   ]
  },
  {
   "cell_type": "code",
   "execution_count": 2,
   "metadata": {},
   "outputs": [],
   "source": [
    "# Función get_file_hashes, que obtiene los hashes de cada archivo de malware.\n",
    "def get_file_hashes(file_path):\n",
    "\n",
    "    # Apertura del archivo.\n",
    "    with open(file_path, \"rb\") as file:\n",
    "\n",
    "        # Obtención del contenido y los hashes del archivo.\n",
    "        content = file.read()\n",
    "        md5_hash = hashlib.md5(content).hexdigest()\n",
    "        sha1_hash = hashlib.sha1(content).hexdigest()\n",
    "        sha256_hash = hashlib.sha256(content).hexdigest()\n",
    "\n",
    "    # Retorno de los hashes del archivo.\n",
    "    return md5_hash, sha1_hash, sha256_hash"
   ]
  },
  {
   "cell_type": "markdown",
   "metadata": {},
   "source": [
    "Con la función que extrae los hashes finalizada, es necesario crear otra función que nos brinde todas las características del malware que necesitamos utilizar con el objetivo de identificar los clústers necesarios. La función es bastante extensa, pero se encuentra propiamente comentada en cada una de sus secciones con el objetivo de facilitar su entendimiento. Utiliza principalmente la librería `pefile`, y la misma también se llama `extract_pe_features`, y finalmente tiene como objetivo, valga la redundancia, extraer las características de cada archivo de malware."
   ]
  },
  {
   "cell_type": "code",
   "execution_count": 3,
   "metadata": {},
   "outputs": [],
   "source": [
    "# Función extract_pe_features, que extrae las características necesarias del malware.\n",
    "def extract_pe_features(file_path):\n",
    "\n",
    "    # Lista de features que se retornarán.\n",
    "    pe_features = []\n",
    "\n",
    "    # Bloque try-catch que abre y accede al malware.\n",
    "    try:\n",
    "\n",
    "        # Primeras catacterísticas a extraer.\n",
    "        pe = pefile.PE(file_path)\n",
    "        pe_features.append(len(pe.sections))  # Número de secciones.\n",
    "        pe_features.append(pe.FILE_HEADER.Machine)  # Arquitectura de la máquina.\n",
    "        pe_features.append(pe.FILE_HEADER.Characteristics)  # Características del archivo.\n",
    "        pe_features.append(pe.OPTIONAL_HEADER.SizeOfCode)  # Tamaño del código.\n",
    "        pe_features.append(pe.OPTIONAL_HEADER.SizeOfInitializedData)  # Tamaño de datos inicializados.\n",
    "        pe_features.append(pe.OPTIONAL_HEADER.SizeOfUninitializedData)  # Tamaño de datos no inicializados.\n",
    "        pe_features.append(pe.OPTIONAL_HEADER.AddressOfEntryPoint)  # Dirección del punto de entrada.\n",
    "        pe_features.append(pe.OPTIONAL_HEADER.ImageBase)  # Base de la imagen.\n",
    "        pe_features.append(pe.OPTIONAL_HEADER.MajorSubsystemVersion)  # Versión del subsistema principal.\n",
    "        pe_features.append(pe.OPTIONAL_HEADER.Subsystem)  # Subsistema.\n",
    "        pe_features.append(pe.OPTIONAL_HEADER.DllCharacteristics)  # Características de DLL.\n",
    "        \n",
    "        # Checksum del archivo.\n",
    "        pe_features.append(pe.OPTIONAL_HEADER.CheckSum)\n",
    "\n",
    "        # Importaciones de funciones del archivo.\n",
    "        imports = []\n",
    "        for entry in pe.DIRECTORY_ENTRY_IMPORT:\n",
    "            for imp in entry.imports:\n",
    "                imports.append(imp.name.decode(\"utf-8\", \"ignore\"))\n",
    "        pe_features.append(imports)\n",
    "\n",
    "        # Exportaciones de funciones del archivo.\n",
    "        exports = []\n",
    "        if (hasattr(pe, \"DIRECTORY_ENTRY_EXPORT\")):\n",
    "            for exp in pe.DIRECTORY_ENTRY_EXPORT.symbols:\n",
    "                exports.append(exp.name.decode(\"utf-8\", \"ignore\"))\n",
    "        pe_features.append(exports)\n",
    "\n",
    "        # Tiempo de compilación del archivo.\n",
    "        pe_features.append(pe.FILE_HEADER.TimeDateStamp)\n",
    "\n",
    "        # Firma digital del archivo.\n",
    "        pe_features.append(\"Signed\" if (hasattr(pe, \"DIRECTORY_ENTRY_CERT\")) else \"Unsigned\")\n",
    "\n",
    "        # Versiones de recursos del archivo.\n",
    "        if (hasattr(pe, \"VS_VERSIONINFO\")):\n",
    "            pe_features.append(pe.VS_VERSIONINFO.ProductVersion)\n",
    "            pe_features.append(pe.VS_VERSIONINFO.FileVersion)\n",
    "        else:\n",
    "            pe_features.append(None)\n",
    "            pe_features.append(None)\n",
    "\n",
    "        # Entropía del archivo.\n",
    "        section_entropies = [section.get_entropy() for section in pe.sections]\n",
    "        pe_features.append(section_entropies)\n",
    "\n",
    "        # Secciones ejecutables del archivo.\n",
    "        executable_sections = [section.IMAGE_SCN_MEM_EXECUTE for section in pe.sections]\n",
    "        pe_features.append(executable_sections)\n",
    "\n",
    "        # Número de secciones ejecutables del archivo.\n",
    "        executable_sections_length = sum(section.IMAGE_SCN_MEM_EXECUTE for section in pe.sections)\n",
    "        pe_features.append(executable_sections_length)\n",
    "\n",
    "        # TLS (Thread Local Storage) del archivo.\n",
    "        pe_features.append(pe.OPTIONAL_HEADER.DATA_DIRECTORY[9].VirtualAddress)\n",
    "        pe_features.append(pe.OPTIONAL_HEADER.DATA_DIRECTORY[9].Size)\n",
    "\n",
    "        # Dimensiones del Entry Resource del archivo.\n",
    "        if (hasattr(pe, \"DIRECTORY_ENTRY_RESOURCE\")):\n",
    "            pe_features.append(len(pe.DIRECTORY_ENTRY_RESOURCE.entries))\n",
    "            resource_size = sum(resource.directory.SizeOfData for resource in pe.DIRECTORY_ENTRY_RESOURCE.entries)\n",
    "            pe_features.append(resource_size)\n",
    "        else:\n",
    "            pe_features.extend([0, 0])\n",
    "\n",
    "    # Manejo de cualquier error manipulando el archivo.\n",
    "    except Exception as e:\n",
    "        print(f\"Error processing {file_path}: {e}\")\n",
    "\n",
    "    # Retorno de las features halladas.\n",
    "    return pe_features"
   ]
  },
  {
   "cell_type": "markdown",
   "metadata": {},
   "source": [
    "Con nuestra función de extracción de características de los archivos de malware proporcionados efectivamente completada, nos queda utilizarla junto con la función que fue creada para la obtención de hashes con el objetivo de crear el dataset. Debemos indicar la ruta del folder con el malware y la ruta del archivo .csv de salida con las características que necesitamos utilizar para el análisis."
   ]
  },
  {
   "cell_type": "code",
   "execution_count": 4,
   "metadata": {},
   "outputs": [],
   "source": [
    "# Rutas de entrada y de salida.\n",
    "malware_folder = \"./malware\"\n",
    "output_csv = \"./data/malware-dataset.csv\""
   ]
  },
  {
   "cell_type": "markdown",
   "metadata": {},
   "source": [
    "Con estas rutas configuradas correctamente, nos hace falta una lista con toda la data a almacenar con el objetivo de finalmente ser almacenada en el archivo .csv que también configuramos."
   ]
  },
  {
   "cell_type": "code",
   "execution_count": 5,
   "metadata": {},
   "outputs": [],
   "source": [
    "# Lista con los datos a guardar.\n",
    "data = []"
   ]
  },
  {
   "cell_type": "markdown",
   "metadata": {},
   "source": [
    "Todo está correctamente configurado, y ahora lo único que hace falta es codificar el proceso de iterar en la carpeta con el malware y extraer todas sus características, para finalmente guardarlas en la lista `data` que instanciamos anteriormente."
   ]
  },
  {
   "cell_type": "code",
   "execution_count": 6,
   "metadata": {},
   "outputs": [
    {
     "name": "stdout",
     "output_type": "stream",
     "text": [
      "Error processing ./malware/GFT4_7DDD3D72EAD03C7518F5D47650C8572: 'list' object has no attribute 'ProductVersion'\n",
      "Error processing ./malware/EEE99EC8AA67B05407C01094184C33D2B5A44: 'ResourceDirData' object has no attribute 'SizeOfData'\n",
      "Error processing ./malware/FGTR43_EF8E0FB20E7228C7492CCDC59D87C690: 'list' object has no attribute 'ProductVersion'\n",
      "Error processing ./malware/QW2_4C6BDDCCA2695D6202DF38708E14FC7E: 'list' object has no attribute 'ProductVersion'\n"
     ]
    },
    {
     "name": "stdout",
     "output_type": "stream",
     "text": [
      "Error processing ./malware/JKK8CA6FE7A1315AF5AFEAC2961460A80569: 'ResourceDirData' object has no attribute 'SizeOfData'\n",
      "Error processing ./malware/A316D5AECA269CA865077E7FFF356E7D: 'ResourceDirData' object has no attribute 'SizeOfData'\n",
      "Error processing ./malware/.DS_Store: 'DOS Header magic not found.'\n",
      "Error processing ./malware/65018CD542145A3792BA09985734C12A: 'ResourceDirData' object has no attribute 'SizeOfData'\n",
      "Error processing ./malware/785003A405BC7A4EBCBB21DDB757BF3F: 'ResourceDirData' object has no attribute 'SizeOfData'\n",
      "Error processing ./malware/JH78C0A33A1B472A8C16123FD696A5CE5EBB: 'ResourceDirData' object has no attribute 'SizeOfData'\n",
      "Error processing ./malware/6FAA4740F99408D4D2DDDD0B09BBDEFD: 'ResourceDirData' object has no attribute 'SizeOfData'\n",
      "Error processing ./malware/FTTR9EA3C16194CE354C244C1B74C46CD92E: 'ResourceDirData' object has no attribute 'SizeOfData'\n",
      "Error processing ./malware/VBMM9_149B7BD7218AAB4E257D28469FDDB0D: 'list' object has no attribute 'ProductVersion'\n",
      "Error processing ./malware/33DE5067A433A6EC5C328067DC18EC37: 'ResourceDirData' object has no attribute 'SizeOfData'\n",
      "Error processing ./malware/HJGQDD892986B2249B5214639ECC8AC0223: 'ResourceDirData' object has no attribute 'SizeOfData'\n",
      "Error processing ./malware/8442AE37B91F279A9F06DE4C60B286A3: 'ResourceDirData' object has no attribute 'SizeOfData'\n",
      "Error processing ./malware/BVJ2D9FBF759F527AF373E34673DC3ACA462: 'ResourceDirData' object has no attribute 'SizeOfData'\n",
      "Error processing ./malware/FGJKJJ1_2BA0D0083976A5C1E3315413CDCFFCD2: 'ResourceDirData' object has no attribute 'SizeOfData'\n",
      "Error processing ./malware/RTC_7F85D7F628CE62D1D8F7B39D8940472: 'list' object has no attribute 'ProductVersion'\n",
      "Error processing ./malware/FHHH6576C196385407B0F7F4B1B537D88983: 'ResourceDirData' object has no attribute 'SizeOfData'\n",
      "Error processing ./malware/1F2EB7B090018D975E6D9B40868C94CA: 'ResourceDirData' object has no attribute 'SizeOfData'\n",
      "Error processing ./malware/F8437E44748D2C3FCF84019766F4E6DC: 'ResourceDirData' object has no attribute 'SizeOfData'\n",
      "Error processing ./malware/99A39866A657A10949FCB6D634BB30D5: 'ResourceDirData' object has no attribute 'SizeOfData'\n",
      "Error processing ./malware/650A6FCA433EE243391E4B4C11F09438: 'ResourceDirData' object has no attribute 'SizeOfData'\n",
      "Error processing ./malware/B07322743778B5868475DBE66EEDAC4F: 'ResourceDirData' object has no attribute 'SizeOfData'\n",
      "Error processing ./malware/L11_1415EB8519D13328091CC5C76A624E3D: 'list' object has no attribute 'ProductVersion'\n",
      "Error processing ./malware/F6655E39465C2FF5B016980D918EA028: 'ResourceDirData' object has no attribute 'SizeOfData'\n",
      "Error processing ./malware/NBV_8B75BCBFF174C25A0161F30758509A44: 'ResourceDirData' object has no attribute 'SizeOfData'\n"
     ]
    }
   ],
   "source": [
    "# Ciclo que itera el folder de malware y guarda las características adquiridas.\n",
    "for file_name in os.listdir(malware_folder):\n",
    "    file_path = os.path.join(malware_folder, file_name)\n",
    "    md5_hash, sha1_hash, sha256_hash = get_file_hashes(file_path)\n",
    "    pe_features = extract_pe_features(file_path)\n",
    "    data.append([file_name, md5_hash, sha1_hash, sha256_hash] + pe_features)"
   ]
  },
  {
   "cell_type": "markdown",
   "metadata": {},
   "source": [
    "Finalmente, estamos listos para escribir el archivo .csv con las características encontradas por parte de cada uno de los archivos. Debemos configurar las columnas, el dataframe, y finalmente llamar a la función `to_csv` para pasar el dataframe al formato .csv que necesitamos utilizar."
   ]
  },
  {
   "cell_type": "code",
   "execution_count": 7,
   "metadata": {},
   "outputs": [],
   "source": [
    "# Columnas del dataset.\n",
    "columns = [\n",
    "  \"file_name\", \"md5\", \"sha1\", \"sha256\", \"num_sections\", \"machine\", \"characteristics\",\n",
    "  \"size_of_code\", \"size_of_initialized_data\", \"size_of_uninitialized_data\", \"address_of_entry_point\",\n",
    "  \"image_base\", \"major_subsystem_version\", \"subsystem\", \"dll_characteristics\", \"checksum\",\n",
    "  \"imports\", \"exports\", \"time_date_stamp\", \"digital_signature\", \"product_version\",\n",
    "  \"file_version\", \"section_entropies\", \"executable_sections\", \"executable_sections_length\",\n",
    "  \"tls_virtual_address\", \"tls_size\", \"resources_section_entries\", \"resources_section_size\",\n",
    "]\n",
    "\n",
    "# Instancia del dataframe con la data recolectada.\n",
    "df = pd.DataFrame(data, columns=columns)\n",
    "\n",
    "# Guardado del dataframe en formato .csv.\n",
    "df.to_csv(output_csv, index=False)"
   ]
  }
 ],
 "metadata": {
  "kernelspec": {
   "display_name": "Python 3",
   "language": "python",
   "name": "python3"
  },
  "language_info": {
   "codemirror_mode": {
    "name": "ipython",
    "version": 3
   },
   "file_extension": ".py",
   "mimetype": "text/x-python",
   "name": "python",
   "nbconvert_exporter": "python",
   "pygments_lexer": "ipython3",
   "version": "3.10.12"
  }
 },
 "nbformat": 4,
 "nbformat_minor": 2
}
